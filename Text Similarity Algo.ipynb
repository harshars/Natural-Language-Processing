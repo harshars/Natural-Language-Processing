{
 "cells": [
  {
   "cell_type": "code",
   "execution_count": 1,
   "metadata": {},
   "outputs": [
    {
     "name": "stderr",
     "output_type": "stream",
     "text": [
      "C:\\Users\\santhosh\\AppData\\Local\\Continuum\\Anaconda2\\lib\\site-packages\\fuzzywuzzy\\fuzz.py:35: UserWarning: Using slow pure-python SequenceMatcher. Install python-Levenshtein to remove this warning\n",
      "  warnings.warn('Using slow pure-python SequenceMatcher. Install python-Levenshtein to remove this warning')\n"
     ]
    }
   ],
   "source": [
    "import codecs, difflib, distance\n",
    "import jellyfish\n",
    "import fuzzywuzzy\n",
    "from fuzzywuzzy import fuzz\n",
    "import nltk \n",
    "from nltk.tokenize import word_tokenize\n",
    "from nltk.stem import WordNetLemmatizer\n",
    "from scipy.spatial import distance\n",
    "\n",
    "lemm = WordNetLemmatizer()"
   ]
  },
  {
   "cell_type": "code",
   "execution_count": 1,
   "metadata": {
    "collapsed": true
   },
   "outputs": [],
   "source": [
    "#Text similarity is to compute how 'close' two pieces of text are in (1) meaning or (2) surface closeness. \n",
    "#The first is referred to as semantic similarity and the latter is referred to as lexical similarity."
   ]
  },
  {
   "cell_type": "code",
   "execution_count": null,
   "metadata": {
    "collapsed": true
   },
   "outputs": [],
   "source": [
    "## Lexical Similarity - Word to Word Matching\n",
    "## It looks at word level match and not meaning\n",
    "\n",
    "## Example :\n",
    "##  Statement 1: Cat ate mouse\n",
    "##  Statement 2: Mouse ate Cat\n",
    "\n",
    "## Any Text Similarity Algorithm will give a HIGH Score of similarity\n",
    "## Statement 1 and Statement 2 are both similar in Words but not in the meaning "
   ]
  },
  {
   "cell_type": "code",
   "execution_count": 78,
   "metadata": {},
   "outputs": [
    {
     "name": "stdout",
     "output_type": "stream",
     "text": [
      "1.0\n"
     ]
    }
   ],
   "source": [
    "statement1 = 'Cat ate mouse'\n",
    "statement2 = 'Mouse ate cat'\n",
    "\n",
    "### Getting the lemmatization for words in the  statements\n",
    "Wlist = []\n",
    "for word in word_tokenize(statement1):\n",
    "    Wlist.append(lemm.lemmatize(word.lower(),'v'))    \n",
    "statement1 = ' '.join(Wlist)    \n",
    "\n",
    "Wlist = []\n",
    "for word in word_tokenize(statement2):\n",
    "    Wlist.append(lemm.lemmatize(word.lower(),'v'))\n",
    "\n",
    "statement2 = ' '.join(Wlist)    \n",
    "\n",
    "setlist =list(set(word_tokenize(statement1) + word_tokenize(statement2)))\n",
    "\n",
    "## Creating 1 or 0's\n",
    "List1 = []\n",
    "List2 = []\n",
    "\n",
    "for item in setlist:\n",
    "    if item in statement1:\n",
    "        List1.append(1)\n",
    "    else:\n",
    "        List1.append(0)\n",
    "            \n",
    "for item in setlist:\n",
    "    if item in statement2:\n",
    "        List2.append(1)\n",
    "    else:\n",
    "        List2.append(0)\n",
    "\n",
    "            \n",
    "print 1 - distance.cosine(List1,List2)"
   ]
  },
  {
   "cell_type": "code",
   "execution_count": null,
   "metadata": {
    "collapsed": true
   },
   "outputs": [],
   "source": [
    "## Semantic Similarity - Meaning between is used for measuring similarity\n",
    "## Extracting Semantic similarity is difficult\n",
    "\n",
    "## Example:\n",
    "##  Statement 1: Cat ate mouse\n",
    "##  Statement 2: Mouse ate Cat\n",
    "\n",
    "## From Semantic wise Both are different. \n",
    "## The Normal Text Similarity Algorithm will able to perform semantic similarity to an extent by using N- Non determiner words"
   ]
  },
  {
   "cell_type": "code",
   "execution_count": null,
   "metadata": {
    "collapsed": true
   },
   "outputs": [],
   "source": [
    "### People use Syntactic Parsing for Semantic Similarity\n",
    "###  Identifying the noun and object in both the statements"
   ]
  },
  {
   "cell_type": "code",
   "execution_count": 50,
   "metadata": {
    "collapsed": true
   },
   "outputs": [
    {
     "data": {
      "image/png": "[encoded data removed]",
      "text/plain": [
       "<IPython.core.display.Image object>"
      ]
     },
     "execution_count": 50,
     "metadata": {},
     "output_type": "execute_result"
    }
   ],
   "source": [
    "from IPython.display import Image\n",
    "Image(\"D:\\\\CoE\\\\Text Analytics\\\\Text Summarization\\\\summarization.png\")"
   ]
  },
  {
   "cell_type": "code",
   "execution_count": null,
   "metadata": {
    "collapsed": true
   },
   "outputs": [],
   "source": [
    "## Text Similarity Algorithms\n",
    "# Fuzzy Wuzzy\n",
    "# Manhattan Distance\n",
    "# Hamming Distance\n",
    "# Jaro Distance\n",
    "# Jaro - Wrinkler Distance\n",
    "\n",
    "# SequenceMatcher (Difflib)\n",
    "# Jaccard Similarity\n",
    "# Cosine Similarity\n",
    "# Word Embeddings"
   ]
  },
  {
   "cell_type": "code",
   "execution_count": 148,
   "metadata": {
    "collapsed": true
   },
   "outputs": [],
   "source": [
    "#i)   Number of common words in both texts (words should be stemmed)\n",
    "#ii)  Number of words in each sentence\n",
    "#iii) Cosine similarity on TF-IDF vectors (unigrams, word n-grams, character n-grams\n",
    "#iv)  Glove similarity (you can try the pretrained vectors from wikipedia)\n",
    "#v)   Longest common subsequence (LCS)"
   ]
  },
  {
   "cell_type": "code",
   "execution_count": 160,
   "metadata": {},
   "outputs": [
    {
     "name": "stdout",
     "output_type": "stream",
     "text": [
      "FuzzyWuzzy Ratio:  76\n",
      "FuzzyWuzzy PartialRatio:  85\n",
      "FuzzyWuzzy TokenSortRatio:  76\n",
      "FuzzyWuzzy TokenSetRatio:  86\n",
      "FuzzyWuzzy WRatio:  86\n"
     ]
    }
   ],
   "source": [
    "### Fuzzy Wuzzy\n",
    "\n",
    "## Fuzzy with Ratio\n",
    "## Fuzzy with Partial Ratio\n",
    "## Fuzzy with Token Sort Ratio\n",
    "## Fuzzy with Token Set Ratio\n",
    "## Fuzzy with WRatio\n",
    "\n",
    "from fuzzywuzzy import fuzz\n",
    "from fuzzywuzzy import process\n",
    "\n",
    "s1 = \"I love GeeksforGeeks\"\n",
    "s2 = \"I am hate loving GeeksforGeeks\"\n",
    "print \"FuzzyWuzzy Ratio: \", fuzz.ratio(s1, s2)\n",
    "print \"FuzzyWuzzy PartialRatio: \", fuzz.partial_ratio(s1, s2)\n",
    "print \"FuzzyWuzzy TokenSortRatio: \", fuzz.token_sort_ratio(s1, s2)\n",
    "print \"FuzzyWuzzy TokenSetRatio: \", fuzz.token_set_ratio(s1, s2)\n",
    "print \"FuzzyWuzzy WRatio: \", fuzz.WRatio(s1, s2)\n",
    "\n",
    "\n",
    "###  Applications of Fuzzy Wuzzy\n",
    "#1. Spelling Correction\n",
    "#2. Identifying names with multiple ways"
   ]
  },
  {
   "cell_type": "code",
   "execution_count": 84,
   "metadata": {},
   "outputs": [
    {
     "name": "stdout",
     "output_type": "stream",
     "text": [
      "1.0\n",
      "1.0\n",
      "1.0\n"
     ]
    }
   ],
   "source": [
    "## Minkowsi Distance\n",
    "print 1- distance.minkowski(List1,List2)\n",
    "\n",
    "### Hamming Distance\n",
    "#  Hamming Distance is used to measure the distance between two strings of same length\n",
    "# It is measured by the number of editing operations required to get the required string\n",
    "## Hamming Distance\n",
    "print 1- distance.hamming(List1,List2)\n",
    "\n",
    "## Euclidean Distance\n",
    "## sqrt {(x1-y1)^2 + (x2-y2)^2}\n",
    "print 1- distance.euclidean(List1,List2)"
   ]
  },
  {
   "cell_type": "code",
   "execution_count": 85,
   "metadata": {
    "collapsed": true
   },
   "outputs": [],
   "source": [
    "from math import*\n",
    "\n",
    "def manhattan_distance(x,y):\n",
    "    return sum(abs(a-b) for a,b in zip(x,y))"
   ]
  },
  {
   "cell_type": "code",
   "execution_count": 86,
   "metadata": {},
   "outputs": [
    {
     "name": "stdout",
     "output_type": "stream",
     "text": [
      "0\n"
     ]
    }
   ],
   "source": [
    "print manhattan_distance(List1,List2)"
   ]
  },
  {
   "cell_type": "code",
   "execution_count": 87,
   "metadata": {
    "collapsed": true
   },
   "outputs": [],
   "source": [
    "from difflib import SequenceMatcher\n",
    "\n",
    "###The builtin SequenceMatcher is very slow on large input\n",
    "\n",
    "def similar(a, b):\n",
    "    return SequenceMatcher(None, a, b).ratio()"
   ]
  },
  {
   "cell_type": "code",
   "execution_count": 88,
   "metadata": {},
   "outputs": [
    {
     "data": {
      "text/plain": [
       "0.7272727272727273"
      ]
     },
     "execution_count": 88,
     "metadata": {},
     "output_type": "execute_result"
    }
   ],
   "source": [
    "similar(\"Apples are bad\",\"Apples are not good\")"
   ]
  },
  {
   "cell_type": "code",
   "execution_count": 165,
   "metadata": {},
   "outputs": [],
   "source": [
    "## Jaccard Similarity\n",
    "statement1= 'I am insane'\n",
    "statement2= 'I am not insane'"
   ]
  },
  {
   "cell_type": "code",
   "execution_count": 162,
   "metadata": {
    "collapsed": true
   },
   "outputs": [],
   "source": [
    "## Jaccard Similarity = Length of intersection words / Length of union of words \n",
    "def get_jaccard_sim(str1, str2): \n",
    "    a = set(str1.split()) \n",
    "    b = set(str2.split())\n",
    "    c = a.intersection(b)\n",
    "    return float(len(c)) / (len(a) + len(b) - len(c))\n",
    "\n",
    "## Length of intersection:3\n",
    "## Length of Union: (16-3)\n",
    "\n",
    "### To get the better similarity score,\n",
    "## Try removing the stopwords\n",
    "## Try Removing the Punctuations\n",
    "## Lemmatize or Stem the words to its root words"
   ]
  },
  {
   "cell_type": "code",
   "execution_count": 163,
   "metadata": {},
   "outputs": [
    {
     "name": "stdout",
     "output_type": "stream",
     "text": [
      "0.75\n"
     ]
    }
   ],
   "source": [
    "print get_jaccard_sim(Sentence1,Sentence2)"
   ]
  },
  {
   "cell_type": "code",
   "execution_count": null,
   "metadata": {},
   "outputs": [],
   "source": [
    "## Disadvantages of Jaccard Similairty\n",
    "## It does not take care of friend word occuring more than once in the same statement"
   ]
  },
  {
   "cell_type": "code",
   "execution_count": 109,
   "metadata": {
    "collapsed": true
   },
   "outputs": [],
   "source": [
    "## Cosine Similarity\n",
    "## It is calculated by the angle between two list or strings\n",
    "## If the angle is 0 means bith the statements are same\n",
    "## If the angle is 90 means bith the statements are not same"
   ]
  },
  {
   "cell_type": "code",
   "execution_count": 166,
   "metadata": {},
   "outputs": [
    {
     "name": "stdout",
     "output_type": "stream",
     "text": [
      "0.866025403784\n"
     ]
    }
   ],
   "source": [
    "### Getting the lemmatization for words in the  statements\n",
    "Wlist = []\n",
    "for word in word_tokenize(statement1):\n",
    "    Wlist.append(lemm.lemmatize(word.lower(),'v'))    \n",
    "statement1 = ' '.join(Wlist)    \n",
    "\n",
    "Wlist = []\n",
    "for word in word_tokenize(statement2):\n",
    "    Wlist.append(lemm.lemmatize(word.lower(),'v'))\n",
    "\n",
    "statement2 = ' '.join(Wlist)    \n",
    "\n",
    "setlist =list(set(word_tokenize(statement1) + word_tokenize(statement2)))\n",
    "\n",
    "## Creating 1 or 0's\n",
    "List1 = []\n",
    "List2 = []\n",
    "\n",
    "for item in setlist:\n",
    "    if item in statement1:\n",
    "        List1.append(1)\n",
    "    else:\n",
    "        List1.append(0)\n",
    "            \n",
    "for item in setlist:\n",
    "    if item in statement2:\n",
    "        List2.append(1)\n",
    "    else:\n",
    "        List2.append(0)\n",
    "\n",
    "            \n",
    "print 1 - distance.cosine(List1,List2)"
   ]
  },
  {
   "cell_type": "raw",
   "metadata": {},
   "source": [
    "##Example:\n",
    "1) Julie loves me more than Linda loves me\n",
    "2) Jane likes me more than Julie loves me\n",
    "\n",
    "Step 1: We begin by making a list of the words from both texts:\n",
    "me Julie loves Linda than more likes Jane    \n",
    "\n",
    "Step 2: we count the number of times each of these words appears in each text\n",
    "\n",
    "   me   2   2\n",
    " Jane   0   1\n",
    "Julie   1   1\n",
    "Linda   1   0\n",
    "likes   0   1\n",
    "loves   2   1\n",
    " more   1   1\n",
    " than   1   1\n",
    " \n",
    "Step 3: The two vectors are, again:\n",
    "a: [2, 0, 1, 1, 0, 2, 1, 1]\n",
    "b: [2, 1, 1, 0, 1, 1, 1, 1] \n",
    "\n",
    "Step 4: Calculate the distance between these two lists\n",
    "print 1 - spatial.distance.cosine(list1, list2)"
   ]
  },
  {
   "cell_type": "code",
   "execution_count": 111,
   "metadata": {},
   "outputs": [
    {
     "name": "stdout",
     "output_type": "stream",
     "text": [
      "1.0\n"
     ]
    }
   ],
   "source": [
    "print 1-distance.cosine(List1,List2)"
   ]
  },
  {
   "cell_type": "code",
   "execution_count": 112,
   "metadata": {
    "scrolled": true
   },
   "outputs": [
    {
     "data": {
      "image/png": "[encoded data removed]",
      "text/plain": [
       "<IPython.core.display.Image object>"
      ]
     },
     "execution_count": 112,
     "metadata": {},
     "output_type": "execute_result"
    }
   ],
   "source": [
    "Image(\"D:\\\\CoE\\\\Text Analytics\\\\Text Summarization\\\\class2.png\")"
   ]
  },
  {
   "cell_type": "code",
   "execution_count": 117,
   "metadata": {},
   "outputs": [
    {
     "name": "stdout",
     "output_type": "stream",
     "text": [
      "Step 1: Get the Term Frequency\n"
     ]
    },
    {
     "data": {
      "image/png": "[encoded data removed]",
      "text/plain": [
       "<IPython.core.display.Image object>"
      ]
     },
     "execution_count": 117,
     "metadata": {},
     "output_type": "execute_result"
    }
   ],
   "source": [
    "print 'Step 1: Get the Term Frequency'\n",
    "Image(\"D:\\\\CoE\\\\Text Analytics\\\\Text Summarization\\\\class3.png\")"
   ]
  },
  {
   "cell_type": "code",
   "execution_count": 116,
   "metadata": {},
   "outputs": [
    {
     "data": {
      "image/png": "[encoded data removed]",
      "text/plain": [
       "<IPython.core.display.Image object>"
      ]
     },
     "execution_count": 116,
     "metadata": {},
     "output_type": "execute_result"
    }
   ],
   "source": [
    "print 'Step 2: Normalize the vectors'\n",
    "Image(\"D:\\\\CoE\\\\Text Analytics\\\\Text Summarization\\\\class4.png\")"
   ]
  },
  {
   "cell_type": "code",
   "execution_count": 118,
   "metadata": {},
   "outputs": [
    {
     "name": "stdout",
     "output_type": "stream",
     "text": [
      "Step 3: Multiply the values of each word across the statement, to get the final score\n"
     ]
    }
   ],
   "source": [
    "print 'Step 3: Multiply the values of each word across the statement, to get the final score'"
   ]
  },
  {
   "cell_type": "code",
   "execution_count": 113,
   "metadata": {
    "collapsed": true
   },
   "outputs": [],
   "source": [
    "##Differences between Jaccard Similarity and Cosine Similarity:\n",
    "##1. Jaccard similarity takes only unique set of words for each sentence / document while cosine similarity takes total length of the vectors. (these vectors could be made from bag of words term frequency or tf-idf)\n",
    "##2. This means that if you repeat the word “friend” in Sentence 1 several times, cosine similarity changes but Jaccard similarity does not. For ex, if the word “friend” is repeated in the first sentence 50 times, cosine similarity drops to 0.4 but Jaccard similarity remains at 0.5.\n",
    "##3. Jaccard similarity is good for cases where duplication does not matter, cosine similarity is good for cases where duplication matters while analyzing text similarity. For two product descriptions, it will be better to use Jaccard similarity as repetition of a word does not reduce their similarity."
   ]
  },
  {
   "cell_type": "code",
   "execution_count": null,
   "metadata": {
    "collapsed": true
   },
   "outputs": [],
   "source": [
    "## Cosine similarity is for comparing two real-valued vectors, but Jaccard similarity is for comparing two binary vectors (sets).\n",
    "## Simply put; in cosine similarity, the number of common attributes is divided by the total number of possible attributes. Whereas in Jaccard Similarity, the number of common attributes is divided by the number of attributes that exist in at least one of the two objects."
   ]
  },
  {
   "cell_type": "code",
   "execution_count": null,
   "metadata": {
    "collapsed": true
   },
   "outputs": [],
   "source": [
    "### In the previous method Term Frequency is used, Instead of term frequency or count vectorizer one can use TF-IDF Vectorizer"
   ]
  },
  {
   "cell_type": "code",
   "execution_count": 119,
   "metadata": {
    "collapsed": true
   },
   "outputs": [],
   "source": [
    "### Finding the Similarity Between Documents\n",
    "d1 = \"plot: two teen couples go to a church party, drink and then drive.\"\n",
    "d2 = \"films adapted from comic books have had plenty of success , whether they're about superheroes ( batman , superman , spawn ) , or geared toward kids ( casper ) or the arthouse crowd ( ghost world ) , but there's never really been a comic book like from hell before . \"\n",
    "d3 = \"every now and then a movie comes along from a suspect studio , with every indication that it will be a stinker , and to everybody's surprise ( perhaps even the studio ) the film becomes a critical darling . \"\n",
    "d4 = \"damn that y2k bug . \"\n",
    "documents = [d1, d2, d3, d4]"
   ]
  },
  {
   "cell_type": "code",
   "execution_count": 146,
   "metadata": {},
   "outputs": [],
   "source": [
    "import nltk, string, numpy\n",
    "stemmer = nltk.stem.porter.PorterStemmer()\n",
    "\n",
    "def StemNormalize(text):\n",
    " return StemTokens(nltk.word_tokenize(text.lower().translate(remove_punct_dict)))\n",
    "\n",
    "def StemTokens(tokens):\n",
    " return [stemmer.stem(token) for token in tokens]\n",
    "remove_punct_dict = dict((ord(punct), None) for punct in string.punctuation)\n",
    "\n",
    "def LemTokens(tokens):\n",
    " return [lemmer.lemmatize(token) for token in tokens]\n",
    "\n",
    "def LemNormalize(text):\n",
    " return LemTokens(nltk.word_tokenize(text.lower().translate(remove_punct_dict)))\n",
    "\n",
    "lemmer = nltk.stem.WordNetLemmatizer()"
   ]
  },
  {
   "cell_type": "code",
   "execution_count": 129,
   "metadata": {},
   "outputs": [
    {
     "data": {
      "text/plain": [
       "<4x41 sparse matrix of type '<type 'numpy.int64'>'\n",
       "\twith 42 stored elements in Compressed Sparse Row format>"
      ]
     },
     "execution_count": 129,
     "metadata": {},
     "output_type": "execute_result"
    }
   ],
   "source": [
    "### Using TF-IDF Vectorizer\n",
    "from sklearn.feature_extraction.text import CountVectorizer\n",
    "LemVectorizer = CountVectorizer(tokenizer=LemNormalize, stop_words='english')\n",
    "LemVectorizer.fit_transform(documents)"
   ]
  },
  {
   "cell_type": "code",
   "execution_count": 130,
   "metadata": {},
   "outputs": [
    {
     "name": "stdout",
     "output_type": "stream",
     "text": [
      "{u'spawn': 29, u'crowd': 11, u'casper': 5, u'church': 6, u'hell': 20, u'comic': 8, u'superheroes': 33, u'superman': 34, u'plot': 27, u'movie': 24, u'book': 3, u'suspect': 36, u'film': 17, u'party': 25, u'darling': 13, u'really': 28, u'teen': 37, u'everybodys': 16, u'damn': 12, u'batman': 2, u'couple': 9, u'drink': 14, u'like': 23, u'geared': 18, u'studio': 31, u'plenty': 26, u'surprise': 35, u'world': 39, u'come': 7, u'bug': 4, u'kid': 22, u'ghost': 19, u'arthouse': 1, u'y2k': 40, u'stinker': 30, u'success': 32, u'drive': 15, u'theyre': 38, u'indication': 21, u'critical': 10, u'adapted': 0}\n"
     ]
    }
   ],
   "source": [
    "print LemVectorizer.vocabulary_"
   ]
  },
  {
   "cell_type": "code",
   "execution_count": 131,
   "metadata": {
    "collapsed": true
   },
   "outputs": [
    {
     "name": "stdout",
     "output_type": "stream",
     "text": [
      "[[0 0 0 0 0 0 1 0 0 1 0 0 0 0 1 1 0 0 0 0 0 0 0 0 0 1 0 1 0 0 0 0 0 0 0 0 0\n",
      "  1 0 0 0]\n",
      " [1 1 1 2 0 1 0 0 2 0 0 1 0 0 0 0 0 1 1 1 1 0 1 1 0 0 1 0 1 1 0 0 1 1 1 0 0\n",
      "  0 1 1 0]\n",
      " [0 0 0 0 0 0 0 1 0 0 1 0 0 1 0 0 1 1 0 0 0 1 0 0 1 0 0 0 0 0 1 2 0 0 0 1 1\n",
      "  0 0 0 0]\n",
      " [0 0 0 0 1 0 0 0 0 0 0 0 1 0 0 0 0 0 0 0 0 0 0 0 0 0 0 0 0 0 0 0 0 0 0 0 0\n",
      "  0 0 0 1]]\n"
     ]
    }
   ],
   "source": [
    "tf_matrix = LemVectorizer.transform(documents).toarray()\n",
    "print tf_matrix"
   ]
  },
  {
   "cell_type": "code",
   "execution_count": 140,
   "metadata": {},
   "outputs": [
    {
     "data": {
      "text/plain": [
       "TfidfTransformer(norm='l2', smooth_idf=True, sublinear_tf=False, use_idf=True)"
      ]
     },
     "execution_count": 140,
     "metadata": {},
     "output_type": "execute_result"
    }
   ],
   "source": [
    "from sklearn.feature_extraction.text import TfidfTransformer\n",
    "tfidfTran = TfidfTransformer(norm=\"l2\")\n",
    "tfidfTran.fit(tf_matrix)"
   ]
  },
  {
   "cell_type": "code",
   "execution_count": 141,
   "metadata": {},
   "outputs": [],
   "source": [
    "import math\n",
    "def idf(n,df):\n",
    "    result = math.log((n+1.0)/(df+1.0)) + 1\n",
    "    return result"
   ]
  },
  {
   "cell_type": "code",
   "execution_count": 142,
   "metadata": {},
   "outputs": [
    {
     "name": "stdout",
     "output_type": "stream",
     "text": [
      "[[ 1.          0.          0.          0.        ]\n",
      " [ 0.          1.          0.03264186  0.        ]\n",
      " [ 0.          0.03264186  1.          0.        ]\n",
      " [ 0.          0.          0.          1.        ]]\n"
     ]
    }
   ],
   "source": [
    "tfidf_matrix = tfidfTran.transform(tf_matrix)\n",
    "cos_similarity_matrix = (tfidf_matrix * tfidf_matrix.T).toarray()\n",
    "print cos_similarity_matrix"
   ]
  },
  {
   "cell_type": "code",
   "execution_count": 143,
   "metadata": {
    "collapsed": true
   },
   "outputs": [],
   "source": [
    "### Using TF-IDF Vectorizer\n",
    "from sklearn.feature_extraction.text import TfidfVectorizer\n",
    "TfidfVec = TfidfVectorizer(tokenizer=LemNormalize, stop_words='english')"
   ]
  },
  {
   "cell_type": "code",
   "execution_count": 144,
   "metadata": {},
   "outputs": [
    {
     "data": {
      "text/plain": [
       "array([[ 1.        ,  0.        ,  0.        ,  0.        ],\n",
       "       [ 0.        ,  1.        ,  0.03264186,  0.        ],\n",
       "       [ 0.        ,  0.03264186,  1.        ,  0.        ],\n",
       "       [ 0.        ,  0.        ,  0.        ,  1.        ]])"
      ]
     },
     "execution_count": 144,
     "metadata": {},
     "output_type": "execute_result"
    }
   ],
   "source": [
    "def cos_similarity(textlist):\n",
    "    tfidf = TfidfVec.fit_transform(textlist)\n",
    "    return (tfidf * tfidf.T).toarray()\n",
    "cos_similarity(documents)"
   ]
  },
  {
   "cell_type": "code",
   "execution_count": 167,
   "metadata": {},
   "outputs": [
    {
     "data": {
      "text/plain": [
       "[(u'country', 0.9526662826538086),\n",
       " (u'cheese', 0.9144144654273987),\n",
       " (u'number', 0.9119253158569336),\n",
       " (u'gift', 0.90790855884552),\n",
       " (u'game', 0.9057734608650208),\n",
       " (u'famous', 0.9031780958175659),\n",
       " (u'eating', 0.9007160663604736),\n",
       " (u'fruit', 0.9006643295288086),\n",
       " (u'bee', 0.8936486840248108),\n",
       " (u'robot', 0.8887476325035095)]"
      ]
     },
     "execution_count": 167,
     "metadata": {},
     "output_type": "execute_result"
    }
   ],
   "source": [
    "## Word2Vec\n",
    "import gensim\n",
    "import nltk\n",
    "from gensim import corpora,models,similarities\n",
    "import pandas as pd\n",
    "import multiprocessing\n",
    "\n",
    "jokes = pd.read_csv('D:\\\\CoE\\\\Text Analytics\\\\Word2Vec\\\\jokes.csv')\n",
    "\n",
    "df_x = jokes.Question.values.tolist()\n",
    "df_y = jokes.Answer.values.tolist()\n",
    "\n",
    "corpuss = df_x+df_y\n",
    "corp = [nltk.word_tokenize(sent.decode('utf-8'))for sent in corpuss]\n",
    "\n",
    "model = gensim.models.Word2Vec(corp,min_count=1,size=32)\n",
    "\n",
    "model.most_similar('food')\n",
    "#num_of_workers = multiprocessing.cpu_count()\n",
    "\n",
    "#model = gensim.models.Word2Vec(sg=1,min_count=3,seed=10,workers=num_of_workers)"
   ]
  },
  {
   "cell_type": "code",
   "execution_count": null,
   "metadata": {},
   "outputs": [],
   "source": []
  },
  {
   "cell_type": "code",
   "execution_count": null,
   "metadata": {
    "collapsed": true
   },
   "outputs": [],
   "source": []
  },
  {
   "cell_type": "code",
   "execution_count": null,
   "metadata": {
    "collapsed": true
   },
   "outputs": [],
   "source": []
  },
  {
   "cell_type": "code",
   "execution_count": null,
   "metadata": {
    "collapsed": true
   },
   "outputs": [],
   "source": []
  }
 ],
 "metadata": {
  "anaconda-cloud": {},
  "kernelspec": {
   "display_name": "Python 2",
   "language": "python",
   "name": "python2"
  },
  "language_info": {
   "codemirror_mode": {
    "name": "ipython",
    "version": 2
   },
   "file_extension": ".py",
   "mimetype": "text/x-python",
   "name": "python",
   "nbconvert_exporter": "python",
   "pygments_lexer": "ipython2",
   "version": "2.7.14"
  }
 },
 "nbformat": 4,
 "nbformat_minor": 1
}
