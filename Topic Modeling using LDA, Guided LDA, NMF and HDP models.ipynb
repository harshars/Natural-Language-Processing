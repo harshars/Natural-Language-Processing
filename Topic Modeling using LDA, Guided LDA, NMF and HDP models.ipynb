{
 "cells": [
  {
   "cell_type": "code",
   "execution_count": 1,
   "metadata": {},
   "outputs": [],
   "source": [
    "import pandas as pd"
   ]
  },
  {
   "cell_type": "code",
   "execution_count": 2,
   "metadata": {},
   "outputs": [],
   "source": [
    "data = pd.read_csv('abcnews-date-text.csv', error_bad_lines=False);\n",
    "data_text = data[['headline_text']]\n",
    "data_text['index'] = data_text.index\n",
    "documents = data_text"
   ]
  },
  {
   "cell_type": "code",
   "execution_count": 3,
   "metadata": {},
   "outputs": [
    {
     "data": {
      "text/html": [
       "<div>\n",
       "<style scoped>\n",
       "    .dataframe tbody tr th:only-of-type {\n",
       "        vertical-align: middle;\n",
       "    }\n",
       "\n",
       "    .dataframe tbody tr th {\n",
       "        vertical-align: top;\n",
       "    }\n",
       "\n",
       "    .dataframe thead th {\n",
       "        text-align: right;\n",
       "    }\n",
       "</style>\n",
       "<table border=\"1\" class=\"dataframe\">\n",
       "  <thead>\n",
       "    <tr style=\"text-align: right;\">\n",
       "      <th></th>\n",
       "      <th>headline_text</th>\n",
       "      <th>index</th>\n",
       "    </tr>\n",
       "  </thead>\n",
       "  <tbody>\n",
       "    <tr>\n",
       "      <th>0</th>\n",
       "      <td>aba decides against community broadcasting lic...</td>\n",
       "      <td>0</td>\n",
       "    </tr>\n",
       "    <tr>\n",
       "      <th>1</th>\n",
       "      <td>act fire witnesses must be aware of defamation</td>\n",
       "      <td>1</td>\n",
       "    </tr>\n",
       "    <tr>\n",
       "      <th>2</th>\n",
       "      <td>a g calls for infrastructure protection summit</td>\n",
       "      <td>2</td>\n",
       "    </tr>\n",
       "    <tr>\n",
       "      <th>3</th>\n",
       "      <td>air nz staff in aust strike for pay rise</td>\n",
       "      <td>3</td>\n",
       "    </tr>\n",
       "    <tr>\n",
       "      <th>4</th>\n",
       "      <td>air nz strike to affect australian travellers</td>\n",
       "      <td>4</td>\n",
       "    </tr>\n",
       "  </tbody>\n",
       "</table>\n",
       "</div>"
      ],
      "text/plain": [
       "                                       headline_text  index\n",
       "0  aba decides against community broadcasting lic...      0\n",
       "1     act fire witnesses must be aware of defamation      1\n",
       "2     a g calls for infrastructure protection summit      2\n",
       "3           air nz staff in aust strike for pay rise      3\n",
       "4      air nz strike to affect australian travellers      4"
      ]
     },
     "execution_count": 3,
     "metadata": {},
     "output_type": "execute_result"
    }
   ],
   "source": [
    "data_text.head()"
   ]
  },
  {
   "cell_type": "markdown",
   "metadata": {},
   "source": [
    "### LDA "
   ]
  },
  {
   "cell_type": "markdown",
   "metadata": {},
   "source": [
    "LDA : Latent Dirichlet Allocation\n",
    "\n",
    "An unsupervised model that finds the hidden(latent) themes in a corpus.\n",
    "\n",
    "If you have a corpus of say 'n' documents , LDA follows the following :\n",
    "\n",
    " -Go through each document and *randomly* assign each word in the document to one of the k topics \n",
    " \n",
    "                                         |\n",
    "                                         |\n",
    "                                        \\|/\n",
    "                    \n",
    "                    This gives the topic representation of docs\n",
    "                                        &\n",
    "                        Word Distribution of all the topics      \n",
    "                        \n",
    "\n",
    "Iteratively , \n",
    " \n",
    "Go through each word 'w' in d and calculate\n",
    "    \n",
    "     -p(topic t | document d) = proportion of words in document d that are currently assigned to topic 't'\n",
    "     \n",
    "     -p(word w | topic t) = proportion of assignments to topic t over all documents that come from this word 'w'\n",
    "     \n",
    "Reassign 'w' a new topic with probability \n",
    "\n",
    "      - p(t|d) * p(w|t)\n",
    " \n"
   ]
  },
  {
   "cell_type": "code",
   "execution_count": null,
   "metadata": {},
   "outputs": [],
   "source": []
  },
  {
   "cell_type": "markdown",
   "metadata": {},
   "source": [
    "## Data Pre-processing\n",
    "We will perform the following steps:\n",
    "\n",
    "* Tokenization: Split the text into sentences and the sentences into words. Lowercase the words and remove punctuation.\n",
    "\n",
    "\n",
    "* Words that have fewer than 3 characters are removed.\n",
    "\n",
    "\n",
    "* All stopwords are removed.\n",
    "\n",
    "\n",
    "* Words are lemmatized — words in third person are changed to first person and verbs in past and future tenses are changed into present.\\n\n",
    "\n",
    "\n",
    "* Words are stemmed — words are reduced to their root form."
   ]
  },
  {
   "cell_type": "code",
   "execution_count": 4,
   "metadata": {},
   "outputs": [
    {
     "name": "stdout",
     "output_type": "stream",
     "text": [
      "[nltk_data] Downloading package wordnet to /home/swapnil/nltk_data...\n",
      "[nltk_data]   Package wordnet is already up-to-date!\n"
     ]
    },
    {
     "data": {
      "text/plain": [
       "True"
      ]
     },
     "execution_count": 4,
     "metadata": {},
     "output_type": "execute_result"
    }
   ],
   "source": [
    "import gensim\n",
    "from gensim.utils import simple_preprocess\n",
    "from gensim.parsing.preprocessing import STOPWORDS\n",
    "from nltk.stem import WordNetLemmatizer, SnowballStemmer\n",
    "from nltk.stem.porter import *\n",
    "import numpy as np\n",
    "np.random.seed(100)\n",
    "import nltk\n",
    "nltk.download('wordnet')"
   ]
  },
  {
   "cell_type": "markdown",
   "metadata": {},
   "source": [
    "###### Function to perform lemmatize and stem preprocessing steps on the data set."
   ]
  },
  {
   "cell_type": "code",
   "execution_count": 5,
   "metadata": {},
   "outputs": [],
   "source": [
    "stemmer = SnowballStemmer('english')\n",
    "\n",
    "def lemmatize_stemming(text):\n",
    "    return stemmer.stem(WordNetLemmatizer().lemmatize(text, pos='v'))"
   ]
  },
  {
   "cell_type": "code",
   "execution_count": 6,
   "metadata": {},
   "outputs": [],
   "source": [
    "def preprocess(text):\n",
    "    result = []\n",
    "    for token in gensim.utils.simple_preprocess(text):\n",
    "        if token not in gensim.parsing.preprocessing.STOPWORDS and len(token) > 3:\n",
    "            result.append(lemmatize_stemming(token))\n",
    "    return result"
   ]
  },
  {
   "cell_type": "code",
   "execution_count": 7,
   "metadata": {},
   "outputs": [
    {
     "name": "stdout",
     "output_type": "stream",
     "text": [
      "original document: \n",
      "['rain', 'helps', 'dampen', 'bushfires']\n",
      "\n",
      "\n",
      " tokenized and lemmatized document: \n",
      "['rain', 'help', 'dampen', 'bushfir']\n"
     ]
    }
   ],
   "source": [
    "doc_sample = documents[documents['index'] == 4310].values[0][0]\n",
    "\n",
    "print('original document: ')\n",
    "words = []\n",
    "for word in doc_sample.split(' '):\n",
    "    words.append(word)\n",
    "print(words)\n",
    "print('\\n\\n tokenized and lemmatized document: ')\n",
    "print(preprocess(doc_sample))\n"
   ]
  },
  {
   "cell_type": "code",
   "execution_count": 8,
   "metadata": {},
   "outputs": [],
   "source": [
    "processed_docs = documents.sample(100000)['headline_text'].map(preprocess)"
   ]
  },
  {
   "cell_type": "code",
   "execution_count": 9,
   "metadata": {},
   "outputs": [
    {
     "data": {
      "text/plain": [
       "215997               [mcgrath, prepar, stay, wicket]\n",
       "429573                 [aust, right, debat, reignit]\n",
       "517853            [australia, west, indi, highlight]\n",
       "616360                                            []\n",
       "560947              [trickett, return, stall, block]\n",
       "283683                [labour, crush, death, mumbai]\n",
       "382453               [bike, southern, network, plan]\n",
       "795113                 [tourist, miss, remot, coast]\n",
       "342020          [tourist, involv, perth, crash, die]\n",
       "715442    [north, west, sign, chines, tourism, push]\n",
       "Name: headline_text, dtype: object"
      ]
     },
     "execution_count": 9,
     "metadata": {},
     "output_type": "execute_result"
    }
   ],
   "source": [
    "processed_docs[:10]"
   ]
  },
  {
   "cell_type": "markdown",
   "metadata": {},
   "source": [
    "### Bag of words on the dataset¶"
   ]
  },
  {
   "cell_type": "code",
   "execution_count": 10,
   "metadata": {},
   "outputs": [],
   "source": [
    "dictionary = gensim.corpora.Dictionary(processed_docs)"
   ]
  },
  {
   "cell_type": "code",
   "execution_count": 11,
   "metadata": {},
   "outputs": [
    {
     "name": "stdout",
     "output_type": "stream",
     "text": [
      "1978 rhetor\n",
      "19382 clementin\n",
      "328 pact\n",
      "5128 bopha\n",
      "9745 switzlerand\n",
      "12709 booker\n",
      "18340 whiskey\n",
      "23171 hitlist\n",
      "20843 lygon\n",
      "2655 yanke\n",
      "22077 cropper\n"
     ]
    }
   ],
   "source": [
    "count = 0\n",
    "for k, v in dictionary.iteritems():\n",
    "    print(k, v)\n",
    "    count += 1\n",
    "    if count > 10:\n",
    "        break"
   ]
  },
  {
   "cell_type": "markdown",
   "metadata": {},
   "source": [
    "#### Filter out tokens that appear in\n",
    "\n",
    "* less than 5 documents (absolute number) or\n",
    "* more than 0.3 documents (fraction of total corpus size, not absolute number).\n",
    "* after the above two steps, keep only the first 10000 most frequent tokens."
   ]
  },
  {
   "cell_type": "code",
   "execution_count": 12,
   "metadata": {},
   "outputs": [],
   "source": [
    "dictionary.filter_extremes(no_below=5, no_above=0.3, keep_n=10000)"
   ]
  },
  {
   "cell_type": "code",
   "execution_count": 13,
   "metadata": {},
   "outputs": [
    {
     "data": {
      "text/plain": [
       "[(111, 1), (149, 1), (1103, 1), (1238, 1), (1694, 1)]"
      ]
     },
     "execution_count": 13,
     "metadata": {},
     "output_type": "execute_result"
    }
   ],
   "source": [
    "bow_corpus = [dictionary.doc2bow(doc) for doc in processed_docs]\n",
    "bow_corpus[1000]"
   ]
  },
  {
   "cell_type": "code",
   "execution_count": 14,
   "metadata": {},
   "outputs": [
    {
     "name": "stdout",
     "output_type": "stream",
     "text": [
      "Word 111 (\"hous\") appears 1 time.\n",
      "Word 149 (\"support\") appears 1 time.\n",
      "Word 1103 (\"senat\") appears 1 time.\n",
      "Word 1238 (\"mix\") appears 1 time.\n",
      "Word 1694 (\"superannu\") appears 1 time.\n"
     ]
    }
   ],
   "source": [
    "bow_doc_4310 = bow_corpus[1000]\n",
    "\n",
    "for i in range(len(bow_doc_4310)):\n",
    "    print(\"Word {} (\\\"{}\\\") appears {} time.\".format(bow_doc_4310[i][0], \n",
    "                                                     dictionary[bow_doc_4310[i][0]], \n",
    "                                                     bow_doc_4310[i][1]))"
   ]
  },
  {
   "cell_type": "markdown",
   "metadata": {},
   "source": [
    "## Running LDA using Bag of Words"
   ]
  },
  {
   "cell_type": "code",
   "execution_count": 15,
   "metadata": {},
   "outputs": [],
   "source": [
    "lda_model = gensim.models.LdaModel(bow_corpus, num_topics=10, id2word=dictionary, passes=2)"
   ]
  },
  {
   "cell_type": "code",
   "execution_count": 16,
   "metadata": {},
   "outputs": [
    {
     "name": "stdout",
     "output_type": "stream",
     "text": [
      "Topic: 0 \n",
      "Words: 0.024*\"miss\" + 0.021*\"continu\" + 0.019*\"fight\" + 0.016*\"rural\" + 0.016*\"test\" + 0.014*\"lose\" + 0.014*\"talk\" + 0.013*\"search\" + 0.013*\"final\" + 0.012*\"storm\"\n",
      "\n",
      "Topic: 1 \n",
      "Words: 0.056*\"polic\" + 0.030*\"charg\" + 0.027*\"court\" + 0.021*\"kill\" + 0.020*\"crash\" + 0.018*\"murder\" + 0.018*\"death\" + 0.018*\"attack\" + 0.017*\"face\" + 0.016*\"drug\"\n",
      "\n",
      "Topic: 2 \n",
      "Words: 0.023*\"claim\" + 0.017*\"labor\" + 0.015*\"green\" + 0.014*\"reject\" + 0.013*\"return\" + 0.013*\"elect\" + 0.012*\"alleg\" + 0.012*\"region\" + 0.011*\"park\" + 0.011*\"question\"\n",
      "\n",
      "Topic: 3 \n",
      "Words: 0.024*\"year\" + 0.016*\"world\" + 0.015*\"take\" + 0.014*\"case\" + 0.013*\"secur\" + 0.012*\"countri\" + 0.011*\"hour\" + 0.011*\"canberra\" + 0.011*\"high\" + 0.011*\"land\"\n",
      "\n",
      "Topic: 4 \n",
      "Words: 0.030*\"govt\" + 0.023*\"plan\" + 0.020*\"urg\" + 0.020*\"fund\" + 0.015*\"council\" + 0.014*\"busi\" + 0.013*\"health\" + 0.013*\"servic\" + 0.012*\"centr\" + 0.012*\"hospit\"\n",
      "\n",
      "Topic: 5 \n",
      "Words: 0.018*\"worker\" + 0.015*\"leav\" + 0.015*\"australia\" + 0.012*\"leader\" + 0.012*\"strike\" + 0.011*\"rescu\" + 0.010*\"say\" + 0.010*\"vote\" + 0.010*\"union\" + 0.009*\"debat\"\n",
      "\n",
      "Topic: 6 \n",
      "Words: 0.017*\"govern\" + 0.014*\"break\" + 0.014*\"consid\" + 0.012*\"time\" + 0.011*\"get\" + 0.010*\"opposit\" + 0.010*\"win\" + 0.010*\"threat\" + 0.009*\"reveal\" + 0.009*\"inquiri\"\n",
      "\n",
      "Topic: 7 \n",
      "Words: 0.024*\"open\" + 0.020*\"farmer\" + 0.019*\"flood\" + 0.013*\"queensland\" + 0.012*\"job\" + 0.012*\"farm\" + 0.011*\"studi\" + 0.011*\"rain\" + 0.011*\"research\" + 0.010*\"welcom\"\n",
      "\n",
      "Topic: 8 \n",
      "Words: 0.031*\"interview\" + 0.029*\"report\" + 0.020*\"market\" + 0.019*\"coast\" + 0.015*\"home\" + 0.015*\"price\" + 0.015*\"power\" + 0.013*\"rise\" + 0.012*\"lead\" + 0.012*\"gold\"\n",
      "\n",
      "Topic: 9 \n",
      "Words: 0.023*\"chang\" + 0.015*\"minist\" + 0.014*\"driver\" + 0.014*\"west\" + 0.013*\"china\" + 0.013*\"call\" + 0.012*\"review\" + 0.011*\"north\" + 0.010*\"play\" + 0.010*\"bushfir\"\n",
      "\n"
     ]
    }
   ],
   "source": [
    "for idx, topic in lda_model.print_topics(-1):\n",
    "    print('Topic: {} \\nWords: {}\\n'.format(idx, topic))"
   ]
  },
  {
   "cell_type": "markdown",
   "metadata": {},
   "source": [
    "### Validating scores"
   ]
  },
  {
   "cell_type": "code",
   "execution_count": 17,
   "metadata": {},
   "outputs": [
    {
     "name": "stdout",
     "output_type": "stream",
     "text": [
      "\n",
      "Perplexity:  -8.358193947640176\n",
      "\n",
      "Coherence Score:  0.3413931314797031\n"
     ]
    }
   ],
   "source": [
    "import warnings\n",
    "warnings.filterwarnings(\"ignore\")\n",
    "\n",
    "from gensim.models import CoherenceModel\n",
    "# Computing perplexity\n",
    "print('\\nPerplexity: ', lda_model.log_perplexity(bow_corpus)) # a measure of how good the model is. Lower the better\n",
    "\n",
    "# Coherence Score\n",
    "coherence_model_lda = CoherenceModel(model=lda_model, texts=processed_docs, dictionary=dictionary, coherence='c_v')\n",
    "coherence_lda = coherence_model_lda.get_coherence()\n",
    "print('\\nCoherence Score: ', coherence_lda)"
   ]
  },
  {
   "cell_type": "code",
   "execution_count": null,
   "metadata": {},
   "outputs": [],
   "source": []
  },
  {
   "cell_type": "markdown",
   "metadata": {},
   "source": [
    "### Visualizing Topics"
   ]
  },
  {
   "cell_type": "code",
   "execution_count": 18,
   "metadata": {},
   "outputs": [],
   "source": [
    "import pyLDAvis\n",
    "import pyLDAvis.gensim\n",
    "import matplotlib.pyplot as plt\n",
    "%matplotlib inline"
   ]
  },
  {
   "cell_type": "code",
   "execution_count": 19,
   "metadata": {},
   "outputs": [
    {
     "data": {
      "text/html": [
       "\n",
       "<link rel=\"stylesheet\" type=\"text/css\" href=\"https://cdn.rawgit.com/bmabey/pyLDAvis/files/ldavis.v1.0.0.css\">\n",
       "\n",
       "\n",
       "<div id=\"ldavis_el24761403433160107123590758751\"></div>\n",
       "<script type=\"text/javascript\">\n",
       "\n",
       "var ldavis_el24761403433160107123590758751_data = {\"tinfo\": {\"logprob\": [30.0, 29.0, 28.0, 27.0, 26.0, 25.0, 24.0, 23.0, 22.0, 21.0, 20.0, 19.0, 18.0, 17.0, 16.0, 15.0, 14.0, 13.0, 12.0, 11.0, 10.0, 9.0, 8.0, 7.0, 6.0, 5.0, 4.0, 3.0, 2.0, 1.0, -2.876800060272217, -3.4916999340057373, -3.873500108718872, -4.002699851989746, -4.042200088500977, -4.15369987487793, -4.186399936676025, -3.5998001098632812, -4.241099834442139, -4.383999824523926, -4.162700176239014, -4.486100196838379, -4.47599983215332, -4.498799800872803, -4.627799987792969, -4.647200107574463, -4.665299892425537, -3.9214999675750732, -4.800099849700928, -4.856800079345703, -4.89109992980957, -4.954800128936768, -4.978899955749512, -4.99370002746582, -5.085999965667725, -5.1203999519348145, -5.093699932098389, -5.228499889373779, -5.30049991607666, -5.309299945831299, -4.0117998123168945, -4.086299896240234, -4.724899768829346, -4.601600170135498, -4.864699840545654, -4.7266998291015625, -3.515000104904175, -3.9107000827789307, -4.301700115203857, -4.446700096130371, -4.451200008392334, -4.399199962615967, -4.521699905395508, -4.606100082397461, -4.70550012588501, -4.726099967956543, -4.796999931335449, -4.8225998878479, -4.890500068664551, -5.020999908447266, -5.071100234985352, -5.094200134277344, -5.059599876403809, -5.1072998046875, -5.110799789428711, -5.133699893951416, -5.203700065612793, -5.203800201416016, -5.2067999839782715, -5.212699890136719, -5.2307000160217285, -5.270599842071533, -5.292200088500977, -5.283199787139893, -5.324999809265137, -5.039400100708008, -4.3246002197265625, -3.913599967956543, -4.493599891662598, -4.504700183868408, -4.311500072479248, -3.772700071334839, -4.42549991607666, -4.710299968719482, -5.022299766540527, -4.191400051116943, -4.468299865722656, -4.624499797821045, -4.805099964141846, -5.008999824523926, -3.463200092315674, -3.5471999645233154, -3.9059998989105225, -3.9595999717712402, -4.174799919128418, -4.212699890136719, -4.46120023727417, -4.4816999435424805, -4.485499858856201, -4.671199798583984, -4.738399982452393, -4.7870001792907715, -4.80810022354126, -4.896999835968018, -4.937399864196777, -4.965099811553955, -5.036399841308594, -5.037899971008301, -5.1645002365112305, -5.181600093841553, -5.189599990844727, -5.198299884796143, -5.206500053405762, -5.236000061035156, -5.2434000968933105, -5.3094000816345215, -5.315999984741211, -5.3078999519348145, -5.346399784088135, -5.351500034332275, -4.734799861907959, -4.168900012969971, -4.413300037384033, -4.861199855804443, -4.353899955749512, -4.834000110626221, -5.127799987792969, -4.866199970245361, -3.7832999229431152, -4.237500190734863, -4.31689977645874, -4.416999816894531, -4.5569000244140625, -4.583199977874756, -4.293600082397461, -4.668499946594238, -4.671199798583984, -4.686500072479248, -4.796599864959717, -4.894199848175049, -4.912399768829346, -4.915900230407715, -4.930799961090088, -4.75629997253418, -4.987400054931641, -4.790999889373779, -4.998899936676025, -5.03849983215332, -5.048500061035156, -5.076000213623047, -5.079500198364258, -5.1149001121521, -5.157299995422363, -5.235199928283691, -5.2505998611450195, -5.256100177764893, -5.280799865722656, -5.330599784851074, -5.001500129699707, -4.783299922943115, -4.1921000480651855, -4.642899990081787, -4.334700107574463, -4.53980016708374, -4.976600170135498, -4.758999824523926, -4.895899772644043, -5.045100212097168, -3.7276999950408936, -4.202600002288818, -4.2881999015808105, -4.373899936676025, -4.398200035095215, -4.4878997802734375, -4.502799987792969, -4.489999771118164, -4.5808000564575195, -4.606200218200684, -4.616600036621094, -4.655200004577637, -4.729300022125244, -4.781700134277344, -4.842899799346924, -4.851099967956543, -4.878799915313721, -4.781099796295166, -4.894700050354004, -4.92140007019043, -4.927599906921387, -4.990300178527832, -4.994800090789795, -5.035999774932861, -5.042399883270264, -5.008900165557861, -5.122200012207031, -5.137400150299072, -5.143499851226807, -5.217800140380859, -4.894100189208984, -4.116499900817871, -4.493800163269043, -4.7281999588012695, -4.633500099182129, -4.940999984741211, -4.085000038146973, -4.270199775695801, -4.297599792480469, -4.580100059509277, -4.628799915313721, -4.666800022125244, -4.739099979400635, -4.756800174713135, -4.805300235748291, -4.787700176239014, -4.856200218200684, -4.888800144195557, -4.944499969482422, -4.967199802398682, -4.985300064086914, -4.993599891662598, -5.013800144195557, -5.024799823760986, -5.043900012969971, -5.08620023727417, -5.101900100708008, -5.138500213623047, -5.246099948883057, -5.246600151062012, -5.2555999755859375, -5.262499809265137, -5.30019998550415, -5.3358001708984375, -5.368800163269043, -5.384900093078613, -4.493599891662598, -5.225200176239014, -4.417900085449219, -4.712800025939941, -4.814599990844727, -4.60860013961792, -4.999599933624268, -4.838099956512451, -4.924699783325195, -4.972400188446045, -4.955100059509277, -4.9868998527526855, -3.767699956893921, -4.178500175476074, -4.277299880981445, -4.095900058746338, -4.305500030517578, -4.393499851226807, -4.428299903869629, -4.486199855804443, -4.515900135040283, -4.537499904632568, -4.593599796295166, -4.689899921417236, -4.713699817657471, -4.752500057220459, -4.780700206756592, -4.805799961090088, -4.864799976348877, -4.8744001388549805, -4.873799800872803, -4.907100200653076, -4.980000019073486, -5.005899906158447, -5.008999824523926, -5.020500183105469, -5.069799900054932, -5.123199939727783, -5.128399848937988, -5.15369987487793, -5.162499904632568, -5.1645002365112305, -5.07919979095459, -5.136000156402588, -4.379199981689453, -4.552700042724609, -4.887700080871582, -4.542099952697754, -4.6691999435424805, -5.046599864959717, -5.025300025939941, -3.7107999324798584, -3.9779000282287598, -4.3796000480651855, -4.4105000495910645, -4.412300109863281, -4.469299793243408, -4.532899856567383, -4.6031999588012695, -4.605299949645996, -4.6072998046875, -4.618299961090088, -4.705699920654297, -4.827400207519531, -4.856299877166748, -4.909900188446045, -3.91510009765625, -4.933000087738037, -4.955100059509277, -4.996699810028076, -4.998199939727783, -4.998199939727783, -5.0081000328063965, -4.991399765014648, -5.013599872589111, -5.013700008392334, -5.018799781799316, -5.0706000328063965, -5.061399936676025, -4.887899875640869, -5.12939977645874, -4.513299942016602, -4.762499809265137, -4.878900051116943, -4.862199783325195, -4.866499900817871, -5.007999897003174, -5.002299785614014, -3.72379994392395, -3.9618000984191895, -4.127200126647949, -4.247799873352051, -4.154399871826172, -4.396999835968018, -4.3242998123168945, -4.681700229644775, -4.699900150299072, -4.714099884033203, -4.742099761962891, -3.8729000091552734, -4.78249979019165, -4.80810022354126, -4.904200077056885, -4.9217000007629395, -4.932700157165527, -4.969299793243408, -5.0117998123168945, -5.033699989318848, -5.042699813842773, -5.069200038909912, -5.120200157165527, -5.17110013961792, -5.1743998527526855, -5.186800003051758, -5.202400207519531, -5.21999979019165, -5.231599807739258, -5.255099773406982, -4.561999797821045, -4.34499979019165, -4.294600009918213, -4.8130998611450195, -4.630799770355225, -4.993500232696533, -4.938799858093262, -5.091800212860107, -4.002799987792969, -4.189799785614014, -4.394100189208984, -4.405200004577637, -4.5503997802734375, -4.760300159454346, -4.77869987487793, -4.807400226593018, -4.825300216674805, -4.874199867248535, -4.850299835205078, -4.891200065612793, -4.923600196838379, -4.963200092315674, -4.992400169372559, -5.0346999168396, -4.63640022277832, -5.0792999267578125, -5.083000183105469, -5.0833001136779785, -5.095699787139893, -5.118299961090088, -5.176000118255615, -5.1946001052856445, -5.202300071716309, -5.224299907684326, -5.24970006942749, -5.262899875640869, -5.248600006103516, -5.277599811553955, -5.258299827575684, -4.914400100708008, -4.207799911499023, -4.651899814605713, -4.868800163269043, -4.961900234222412, -4.816299915313721, -4.572299957275391, -5.173500061035156], \"Category\": [\"Default\", \"Default\", \"Default\", \"Default\", \"Default\", \"Default\", \"Default\", \"Default\", \"Default\", \"Default\", \"Default\", \"Default\", \"Default\", \"Default\", \"Default\", \"Default\", \"Default\", \"Default\", \"Default\", \"Default\", \"Default\", \"Default\", \"Default\", \"Default\", \"Default\", \"Default\", \"Default\", \"Default\", \"Default\", \"Default\", \"Topic1\", \"Topic1\", \"Topic1\", \"Topic1\", \"Topic1\", \"Topic1\", \"Topic1\", \"Topic1\", \"Topic1\", \"Topic1\", \"Topic1\", \"Topic1\", \"Topic1\", \"Topic1\", \"Topic1\", \"Topic1\", \"Topic1\", \"Topic1\", \"Topic1\", \"Topic1\", \"Topic1\", \"Topic1\", \"Topic1\", \"Topic1\", \"Topic1\", \"Topic1\", \"Topic1\", \"Topic1\", \"Topic1\", \"Topic1\", \"Topic1\", \"Topic1\", \"Topic1\", \"Topic1\", \"Topic1\", \"Topic1\", \"Topic2\", \"Topic2\", \"Topic2\", \"Topic2\", \"Topic2\", \"Topic2\", \"Topic2\", \"Topic2\", \"Topic2\", \"Topic2\", \"Topic2\", \"Topic2\", \"Topic2\", \"Topic2\", \"Topic2\", \"Topic2\", \"Topic2\", \"Topic2\", \"Topic2\", \"Topic2\", \"Topic2\", \"Topic2\", \"Topic2\", \"Topic2\", \"Topic2\", \"Topic2\", \"Topic2\", \"Topic2\", \"Topic2\", \"Topic2\", \"Topic2\", \"Topic2\", \"Topic2\", \"Topic2\", \"Topic2\", \"Topic2\", \"Topic2\", \"Topic2\", \"Topic2\", \"Topic2\", \"Topic2\", \"Topic2\", \"Topic2\", \"Topic2\", \"Topic3\", \"Topic3\", \"Topic3\", \"Topic3\", \"Topic3\", \"Topic3\", \"Topic3\", \"Topic3\", \"Topic3\", \"Topic3\", \"Topic3\", \"Topic3\", \"Topic3\", \"Topic3\", \"Topic3\", \"Topic3\", \"Topic3\", \"Topic3\", \"Topic3\", \"Topic3\", \"Topic3\", \"Topic3\", \"Topic3\", \"Topic3\", \"Topic3\", \"Topic3\", \"Topic3\", \"Topic3\", \"Topic3\", \"Topic3\", \"Topic3\", \"Topic3\", \"Topic3\", \"Topic3\", \"Topic3\", \"Topic3\", \"Topic3\", \"Topic3\", \"Topic4\", \"Topic4\", \"Topic4\", \"Topic4\", \"Topic4\", \"Topic4\", \"Topic4\", \"Topic4\", \"Topic4\", \"Topic4\", \"Topic4\", \"Topic4\", \"Topic4\", \"Topic4\", \"Topic4\", \"Topic4\", \"Topic4\", \"Topic4\", \"Topic4\", \"Topic4\", \"Topic4\", \"Topic4\", \"Topic4\", \"Topic4\", \"Topic4\", \"Topic4\", \"Topic4\", \"Topic4\", \"Topic4\", \"Topic4\", \"Topic4\", \"Topic4\", \"Topic4\", \"Topic4\", \"Topic4\", \"Topic4\", \"Topic4\", \"Topic4\", \"Topic4\", \"Topic4\", \"Topic5\", \"Topic5\", \"Topic5\", \"Topic5\", \"Topic5\", \"Topic5\", \"Topic5\", \"Topic5\", \"Topic5\", \"Topic5\", \"Topic5\", \"Topic5\", \"Topic5\", \"Topic5\", \"Topic5\", \"Topic5\", \"Topic5\", \"Topic5\", \"Topic5\", \"Topic5\", \"Topic5\", \"Topic5\", \"Topic5\", \"Topic5\", \"Topic5\", \"Topic5\", \"Topic5\", \"Topic5\", \"Topic5\", \"Topic5\", \"Topic5\", \"Topic5\", \"Topic5\", \"Topic5\", \"Topic5\", \"Topic5\", \"Topic6\", \"Topic6\", \"Topic6\", \"Topic6\", \"Topic6\", \"Topic6\", \"Topic6\", \"Topic6\", \"Topic6\", \"Topic6\", \"Topic6\", \"Topic6\", \"Topic6\", \"Topic6\", \"Topic6\", \"Topic6\", \"Topic6\", \"Topic6\", \"Topic6\", \"Topic6\", \"Topic6\", \"Topic6\", \"Topic6\", \"Topic6\", \"Topic6\", \"Topic6\", \"Topic6\", \"Topic6\", \"Topic6\", \"Topic6\", \"Topic6\", \"Topic6\", \"Topic6\", \"Topic6\", \"Topic6\", \"Topic6\", \"Topic6\", \"Topic6\", \"Topic6\", \"Topic6\", \"Topic6\", \"Topic6\", \"Topic7\", \"Topic7\", \"Topic7\", \"Topic7\", \"Topic7\", \"Topic7\", \"Topic7\", \"Topic7\", \"Topic7\", \"Topic7\", \"Topic7\", \"Topic7\", \"Topic7\", \"Topic7\", \"Topic7\", \"Topic7\", \"Topic7\", \"Topic7\", \"Topic7\", \"Topic7\", \"Topic7\", \"Topic7\", \"Topic7\", \"Topic7\", \"Topic7\", \"Topic7\", \"Topic7\", \"Topic7\", \"Topic7\", \"Topic7\", \"Topic7\", \"Topic7\", \"Topic7\", \"Topic7\", \"Topic7\", \"Topic7\", \"Topic7\", \"Topic7\", \"Topic7\", \"Topic8\", \"Topic8\", \"Topic8\", \"Topic8\", \"Topic8\", \"Topic8\", \"Topic8\", \"Topic8\", \"Topic8\", \"Topic8\", \"Topic8\", \"Topic8\", \"Topic8\", \"Topic8\", \"Topic8\", \"Topic8\", \"Topic8\", \"Topic8\", \"Topic8\", \"Topic8\", \"Topic8\", \"Topic8\", \"Topic8\", \"Topic8\", \"Topic8\", \"Topic8\", \"Topic8\", \"Topic8\", \"Topic8\", \"Topic8\", \"Topic8\", \"Topic8\", \"Topic8\", \"Topic8\", \"Topic8\", \"Topic8\", \"Topic8\", \"Topic9\", \"Topic9\", \"Topic9\", \"Topic9\", \"Topic9\", \"Topic9\", \"Topic9\", \"Topic9\", \"Topic9\", \"Topic9\", \"Topic9\", \"Topic9\", \"Topic9\", \"Topic9\", \"Topic9\", \"Topic9\", \"Topic9\", \"Topic9\", \"Topic9\", \"Topic9\", \"Topic9\", \"Topic9\", \"Topic9\", \"Topic9\", \"Topic9\", \"Topic9\", \"Topic9\", \"Topic9\", \"Topic9\", \"Topic9\", \"Topic9\", \"Topic9\", \"Topic9\", \"Topic9\", \"Topic9\", \"Topic9\", \"Topic9\", \"Topic9\", \"Topic10\", \"Topic10\", \"Topic10\", \"Topic10\", \"Topic10\", \"Topic10\", \"Topic10\", \"Topic10\", \"Topic10\", \"Topic10\", \"Topic10\", \"Topic10\", \"Topic10\", \"Topic10\", \"Topic10\", \"Topic10\", \"Topic10\", \"Topic10\", \"Topic10\", \"Topic10\", \"Topic10\", \"Topic10\", \"Topic10\", \"Topic10\", \"Topic10\", \"Topic10\", \"Topic10\", \"Topic10\", \"Topic10\", \"Topic10\", \"Topic10\", \"Topic10\", \"Topic10\", \"Topic10\", \"Topic10\", \"Topic10\", \"Topic10\", \"Topic10\", \"Topic10\"], \"Term\": [\"polic\", \"charg\", \"govt\", \"interview\", \"court\", \"report\", \"kill\", \"year\", \"open\", \"miss\", \"crash\", \"claim\", \"chang\", \"urg\", \"murder\", \"fund\", \"death\", \"market\", \"attack\", \"continu\", \"coast\", \"farmer\", \"plan\", \"fight\", \"flood\", \"drug\", \"jail\", \"accus\", \"worker\", \"face\", \"polic\", \"charg\", \"kill\", \"murder\", \"attack\", \"drug\", \"accus\", \"court\", \"woman\", \"dead\", \"jail\", \"arrest\", \"investig\", \"trial\", \"shoot\", \"assault\", \"iraq\", \"crash\", \"teen\", \"bomb\", \"sentenc\", \"port\", \"stab\", \"fatal\", \"anti\", \"suspect\", \"blaze\", \"blast\", \"bail\", \"link\", \"death\", \"face\", \"probe\", \"die\", \"appeal\", \"sydney\", \"govt\", \"urg\", \"busi\", \"train\", \"push\", \"centr\", \"indigen\", \"public\", \"mayor\", \"communiti\", \"action\", \"develop\", \"launch\", \"free\", \"clash\", \"east\", \"threaten\", \"hunter\", \"legal\", \"protect\", \"propos\", \"care\", \"aust\", \"track\", \"worri\", \"plane\", \"program\", \"howard\", \"manag\", \"safeti\", \"servic\", \"fund\", \"group\", \"want\", \"health\", \"plan\", \"hospit\", \"support\", \"stop\", \"council\", \"water\", \"seek\", \"boost\", \"resid\", \"interview\", \"report\", \"market\", \"coast\", \"price\", \"power\", \"gold\", \"share\", \"sale\", \"second\", \"announc\", \"bank\", \"sign\", \"food\", \"despit\", \"england\", \"energi\", \"staff\", \"hope\", \"extend\", \"john\", \"sell\", \"profit\", \"nurs\", \"send\", \"central\", \"strong\", \"fuel\", \"shortag\", \"hobart\", \"fall\", \"home\", \"lead\", \"aussi\", \"rise\", \"deal\", \"station\", \"hous\", \"chang\", \"driver\", \"china\", \"review\", \"play\", \"bushfir\", \"west\", \"ahead\", \"law\", \"battl\", \"game\", \"darwin\", \"violenc\", \"abbott\", \"rate\", \"expect\", \"leagu\", \"victoria\", \"polici\", \"babi\", \"sport\", \"miner\", \"discuss\", \"match\", \"climat\", \"troop\", \"boss\", \"cross\", \"obama\", \"iraqi\", \"good\", \"premier\", \"minist\", \"meet\", \"call\", \"north\", \"futur\", \"warn\", \"say\", \"australia\", \"year\", \"take\", \"case\", \"secur\", \"countri\", \"hour\", \"land\", \"canberra\", \"offic\", \"student\", \"race\", \"speak\", \"injur\", \"challeng\", \"hit\", \"life\", \"plead\", \"give\", \"damag\", \"airport\", \"weather\", \"name\", \"honour\", \"turn\", \"burn\", \"million\", \"celebr\", \"christma\", \"royal\", \"player\", \"issu\", \"world\", \"high\", \"adelaid\", \"australian\", \"guilti\", \"govern\", \"break\", \"consid\", \"opposit\", \"threat\", \"reveal\", \"hill\", \"award\", \"liber\", \"decis\", \"club\", \"peopl\", \"project\", \"grant\", \"black\", \"accid\", \"demand\", \"asylum\", \"girl\", \"like\", \"nuclear\", \"poll\", \"beach\", \"inquest\", \"closer\", \"carbon\", \"come\", \"seeker\", \"turnbul\", \"long\", \"get\", \"hand\", \"time\", \"inquiri\", \"parti\", \"win\", \"abus\", \"hear\", \"feder\", \"defend\", \"elect\", \"say\", \"claim\", \"green\", \"reject\", \"labor\", \"return\", \"alleg\", \"region\", \"park\", \"question\", \"back\", \"target\", \"rat\", \"compani\", \"live\", \"coal\", \"rudd\", \"visit\", \"citi\", \"rail\", \"unit\", \"highway\", \"victori\", \"chines\", \"campaign\", \"export\", \"closur\", \"pacif\", \"pressur\", \"candid\", \"toll\", \"crime\", \"raid\", \"elect\", \"road\", \"mine\", \"council\", \"plan\", \"close\", \"say\", \"open\", \"flood\", \"queensland\", \"job\", \"farm\", \"studi\", \"research\", \"welcom\", \"doctor\", \"cut\", \"fail\", \"drought\", \"hop\", \"murray\", \"number\", \"farmer\", \"hunt\", \"wind\", \"japan\", \"ralli\", \"crisi\", \"medic\", \"control\", \"fire\", \"presid\", \"slam\", \"trump\", \"highlight\", \"tasmania\", \"educ\", \"rain\", \"chief\", \"build\", \"cost\", \"brisban\", \"find\", \"water\", \"miss\", \"fight\", \"rural\", \"lose\", \"test\", \"storm\", \"search\", \"prison\", \"season\", \"river\", \"tasmanian\", \"continu\", \"begin\", \"tiger\", \"risk\", \"tour\", \"ban\", \"cancer\", \"blue\", \"show\", \"readi\", \"parliament\", \"loss\", \"week\", \"grower\", \"earli\", \"danger\", \"post\", \"sack\", \"upgrad\", \"news\", \"final\", \"talk\", \"women\", \"nation\", \"drive\", \"south\", \"australia\", \"worker\", \"leav\", \"leader\", \"strike\", \"rescu\", \"debat\", \"media\", \"coach\", \"pakistan\", \"india\", \"plant\", \"teacher\", \"fin\", \"join\", \"approv\", \"rais\", \"vote\", \"korea\", \"flight\", \"newcastl\", \"youth\", \"thousand\", \"attempt\", \"alic\", \"indonesia\", \"effort\", \"bali\", \"suspend\", \"intern\", \"bring\", \"scientist\", \"team\", \"australia\", \"union\", \"offer\", \"head\", \"concern\", \"say\", \"world\"], \"Freq\": [3090.0, 1671.0, 1519.0, 1346.0, 1500.0, 1238.0, 1141.0, 990.0, 976.0, 960.0, 1088.0, 946.0, 942.0, 1023.0, 1002.0, 1172.0, 997.0, 865.0, 964.0, 828.0, 820.0, 797.0, 2035.0, 757.0, 747.0, 862.0, 855.0, 834.0, 712.0, 1143.0, 3089.099609375, 1670.22705078125, 1140.1324462890625, 1001.9617919921875, 963.1493530273438, 861.5206298828125, 833.7710571289062, 1499.0283203125, 789.43212890625, 684.2843627929688, 853.8085327148438, 617.901123046875, 624.1466674804688, 610.0840454101562, 536.2692260742188, 525.916748046875, 516.528076171875, 1086.7379150390625, 451.3493347167969, 426.5002136230469, 412.104248046875, 386.674560546875, 377.4622802734375, 371.91943359375, 339.1434020996094, 327.6532287597656, 336.5246887207031, 294.0784912109375, 273.65692138671875, 271.2577209472656, 992.8831176757812, 921.5781860351562, 486.64654541015625, 550.457763671875, 423.14990234375, 485.7460021972656, 1518.853515625, 1022.4500122070312, 691.5489501953125, 598.21923828125, 595.5217895507812, 627.3399047851562, 554.9852905273438, 510.06427001953125, 461.8115234375, 452.3899841308594, 421.43304443359375, 410.7937316894531, 383.8206481933594, 336.8588562011719, 320.3875427246094, 313.07098388671875, 324.104248046875, 309.0238342285156, 307.92254638671875, 300.96685791015625, 280.607666015625, 280.587890625, 279.7379455566406, 278.1058654785156, 273.1368713378906, 262.4634704589844, 256.84564208984375, 259.1791687011719, 248.56407165527344, 330.7359619140625, 675.93505859375, 1019.5076293945312, 570.820556640625, 564.5322265625, 684.8341674804688, 1173.7119140625, 611.06494140625, 459.58660888671875, 336.410400390625, 772.1897583007812, 585.4180297851562, 500.7946472167969, 418.0267333984375, 340.94525146484375, 1345.9395751953125, 1237.487548828125, 864.3701782226562, 819.2922973632812, 660.6159057617188, 636.0903930664062, 496.10443115234375, 486.06622314453125, 484.22027587890625, 402.15765380859375, 376.0154113769531, 358.1883544921875, 350.70330810546875, 320.8724060058594, 308.1435241699219, 299.7484436035156, 279.0997009277344, 278.68280029296875, 245.55276489257812, 241.385498046875, 239.46682739257812, 237.39134216308594, 235.4578857421875, 228.61485290527344, 226.9231414794922, 212.42861938476562, 211.0400848388672, 212.7472686767578, 204.70901489257812, 203.67852783203125, 377.376953125, 664.5533447265625, 520.4619750976562, 332.5671691894531, 552.2923583984375, 341.7419128417969, 254.7209014892578, 330.8818054199219, 941.3148803710938, 597.674560546875, 552.0675659179688, 499.4622802734375, 434.2547607421875, 422.9649963378906, 565.0810546875, 388.40643310546875, 387.35491943359375, 381.4790344238281, 341.7001953125, 309.9228515625, 304.3468933105469, 303.2835998535156, 298.79632568359375, 355.75543212890625, 282.3594665527344, 343.6064758300781, 279.11053466796875, 268.29150390625, 265.6138000488281, 258.4140319824219, 257.5040588378906, 248.55416870117188, 238.23158264160156, 220.3721160888672, 217.0159149169922, 215.81690979003906, 210.54397583007812, 200.3325958251953, 278.4062194824219, 346.2642822265625, 625.4507446289062, 398.4881896972656, 542.31005859375, 441.7363586425781, 285.4277038574219, 354.8123779296875, 309.395751953125, 266.5304870605469, 989.4068603515625, 615.3516235351562, 564.8876342773438, 518.515869140625, 506.0259704589844, 462.6510314941406, 455.7812805175781, 461.6652526855469, 421.60662841796875, 411.00933837890625, 406.7690734863281, 391.36474609375, 363.4026794433594, 344.841552734375, 324.3837890625, 321.7451171875, 312.946533203125, 345.065185546875, 308.017822265625, 299.8994445800781, 298.0318603515625, 279.9388122558594, 278.66278076171875, 267.4322814941406, 265.72369384765625, 274.7784423828125, 245.32879638671875, 241.63583374023438, 240.1615753173828, 222.97207641601562, 308.2020263671875, 670.7286987304688, 459.9054260253906, 363.8106384277344, 399.9394836425781, 294.0777282714844, 688.819091796875, 572.36376953125, 556.8806762695312, 419.8481750488281, 399.85919189453125, 384.964111328125, 358.1152038574219, 351.83258056640625, 335.172607421875, 341.1111755371094, 318.5291442871094, 308.3334045410156, 291.6195983886719, 285.0679626464844, 279.9723205566406, 277.6609802246094, 272.1068420410156, 269.12548828125, 264.03448486328125, 253.08462524414062, 249.15823364257812, 240.202392578125, 215.69454956054688, 215.58628845214844, 213.65440368652344, 212.1910858154297, 204.33848571777344, 197.19496154785156, 190.7863311767578, 187.72984313964844, 457.75042724609375, 220.24813842773438, 493.76654052734375, 367.6531066894531, 332.0802307128906, 408.0541687011719, 275.9806213378906, 324.36279296875, 297.4386291503906, 283.60369873046875, 288.5392150878906, 279.50701904296875, 945.905029296875, 627.2158813476562, 568.262939453125, 681.280029296875, 552.4580688476562, 505.8752136230469, 488.59619140625, 461.1233825683594, 447.615966796875, 438.03289794921875, 414.172119140625, 376.1136779785156, 367.2977600097656, 353.31072998046875, 343.4737854003906, 334.9559631347656, 315.77301025390625, 312.74530029296875, 312.9348449707031, 302.6899719238281, 281.4280090332031, 274.2304992675781, 273.3635559082031, 270.25738525390625, 257.2484436035156, 243.8642578125, 242.5992431640625, 236.53346252441406, 234.48135375976562, 233.99838256835938, 254.8461456298828, 240.77667236328125, 513.16748046875, 431.42974853515625, 308.6177673339844, 436.04364013671875, 383.99334716796875, 263.2778625488281, 268.9492492675781, 975.3665771484375, 746.7456665039062, 499.685546875, 484.5062561035156, 483.63055419921875, 456.8260498046875, 428.68756103515625, 399.5944519042969, 398.7573547363281, 397.94927978515625, 393.590087890625, 360.64093017578125, 319.3244323730469, 310.2261657714844, 294.0536804199219, 795.1376342773438, 287.3327941894531, 281.0614318847656, 269.5860900878906, 269.2059631347656, 269.19989013671875, 266.5432434082031, 271.0238952636719, 265.0734558105469, 265.057373046875, 263.7110900878906, 250.39871215820312, 252.7115936279297, 300.5807800292969, 236.10313415527344, 437.1845397949219, 340.74261474609375, 303.2871398925781, 308.4144287109375, 307.08636474609375, 266.5655212402344, 268.08734130859375, 959.7283935546875, 756.4959106445312, 641.1441040039062, 568.3225708007812, 623.9566650390625, 489.53326416015625, 526.4746704101562, 368.25750732421875, 361.6019287109375, 356.51141357421875, 346.68231201171875, 826.8451538085938, 332.9533386230469, 324.5385437011719, 294.7997741699219, 289.6852722167969, 286.5262145996094, 276.22235107421875, 264.72125244140625, 258.987060546875, 256.67950439453125, 249.94505310058594, 237.52471923828125, 225.74526977539062, 224.99624633789062, 222.2313995361328, 218.793212890625, 214.96218872070312, 212.4850616455078, 207.55189514160156, 415.0946044921875, 515.6650390625, 542.33642578125, 322.9273986816406, 387.49737548828125, 269.6080017089844, 284.7707824707031, 244.37716674804688, 711.4761352539062, 590.13671875, 481.0480041503906, 475.78387451171875, 411.44219970703125, 333.54608154296875, 327.4764709472656, 318.1983947753906, 312.5503234863281, 297.6434631347656, 304.8614196777344, 292.6388854980469, 283.31256103515625, 272.2943420410156, 264.4560241699219, 253.51014709472656, 377.55413818359375, 242.46510314941406, 241.56002807617188, 241.48248291015625, 238.49951171875, 233.18115234375, 220.11595153808594, 216.0462188720703, 214.40167236328125, 209.7265167236328, 204.46185302734375, 201.77932739257812, 204.69973754882812, 198.83795166015625, 202.72134399414062, 285.9274597167969, 579.5703735351562, 371.73529052734375, 299.24566650390625, 272.6590576171875, 315.3760070800781, 402.548828125, 220.66062927246094], \"Total\": [3090.0, 1671.0, 1519.0, 1346.0, 1500.0, 1238.0, 1141.0, 990.0, 976.0, 960.0, 1088.0, 946.0, 942.0, 1023.0, 1002.0, 1172.0, 997.0, 865.0, 964.0, 828.0, 820.0, 797.0, 2035.0, 757.0, 747.0, 862.0, 855.0, 834.0, 712.0, 1143.0, 3090.085693359375, 1671.1180419921875, 1141.106689453125, 1002.8529663085938, 964.1246337890625, 862.42041015625, 834.6622924804688, 1500.6575927734375, 790.3233642578125, 685.18603515625, 855.0194091796875, 618.793212890625, 625.0543212890625, 610.984130859375, 537.1603393554688, 526.8084716796875, 517.4197387695312, 1088.7025146484375, 452.24053955078125, 427.3914489746094, 412.99542236328125, 387.5657653808594, 378.3534240722656, 372.8106994628906, 340.03466796875, 328.54443359375, 337.451171875, 294.9935302734375, 274.548095703125, 272.149169921875, 997.4301147460938, 1143.8299560546875, 551.0902709960938, 678.587890625, 472.2967834472656, 984.6673583984375, 1519.7515869140625, 1023.3392333984375, 692.4378662109375, 599.1079711914062, 596.4105834960938, 628.2994384765625, 555.8785400390625, 510.9530029296875, 462.7002868652344, 453.2794189453125, 422.32171630859375, 411.682861328125, 384.7093811035156, 337.7480773925781, 321.2762451171875, 313.96026611328125, 325.0262145996094, 309.9125061035156, 308.8111877441406, 301.8574523925781, 281.4963684082031, 281.4765625, 280.6324462890625, 278.9957580566406, 274.0255432128906, 263.3521423339844, 257.73431396484375, 260.1019287109375, 249.45269775390625, 332.00238037109375, 724.1693725585938, 1172.2415771484375, 649.162353515625, 671.3250122070312, 866.0298461914062, 2035.70068359375, 856.8870849609375, 590.2269897460938, 385.6756286621094, 1803.39794921875, 1203.7542724609375, 886.9991455078125, 727.738037109375, 483.0782470703125, 1346.8253173828125, 1238.3739013671875, 865.2566528320312, 820.1781005859375, 661.5017700195312, 636.9816284179688, 496.99029541015625, 486.95208740234375, 485.1062316894531, 403.0436096191406, 376.90130615234375, 359.0744323730469, 351.5952453613281, 321.7582702636719, 309.0294494628906, 300.63433837890625, 279.9855651855469, 279.5686950683594, 246.43861389160156, 242.27145385742188, 240.35267639160156, 238.27777099609375, 236.34373474121094, 229.50076293945312, 227.82223510742188, 213.3147430419922, 211.92601013183594, 213.64813232421875, 205.5948944091797, 204.5643768310547, 383.4333801269531, 876.7535400390625, 680.8755493164062, 404.483154296875, 887.48828125, 599.0574951171875, 343.0940856933594, 996.4570922851562, 942.2018432617188, 598.5632934570312, 552.9544677734375, 500.34918212890625, 435.1416931152344, 423.8518371582031, 566.3328857421875, 389.2933349609375, 388.2418212890625, 382.376953125, 342.58709716796875, 310.80975341796875, 305.23370361328125, 304.17047119140625, 299.68341064453125, 356.827880859375, 283.246337890625, 344.6921691894531, 279.9985656738281, 269.1783752441406, 266.50067138671875, 259.3009948730469, 258.3909912109375, 249.44105529785156, 239.11842346191406, 221.25900268554688, 217.9027862548828, 216.70376586914062, 211.43081665039062, 201.21946716308594, 280.0698547363281, 373.9952087402344, 770.7274780273438, 511.244873046875, 863.9636840820312, 639.682373046875, 408.11846923828125, 1206.3465576171875, 1766.90771484375, 1224.3131103515625, 990.293701171875, 616.3140258789062, 565.780029296875, 519.4027099609375, 506.9115905761719, 463.53662109375, 456.6669616699219, 462.56390380859375, 422.5077819824219, 411.89508056640625, 407.65484619140625, 392.2512512207031, 364.28826904296875, 345.72723388671875, 325.2694396972656, 322.63275146484375, 313.8321228027344, 346.0545349121094, 308.9034729003906, 300.7851257324219, 298.91748046875, 280.82537841796875, 279.549072265625, 268.3179626464844, 266.6093444824219, 275.6979064941406, 246.21470642089844, 242.521484375, 241.04727172851562, 223.8577117919922, 314.5175476074219, 892.1740112304688, 576.1490478515625, 512.4609375, 1090.7630615234375, 438.12896728515625, 689.7062377929688, 573.2647705078125, 557.7678833007812, 420.7353820800781, 400.7463684082031, 385.8515319824219, 359.0023193359375, 352.7255859375, 336.05975341796875, 342.0205078125, 319.41632080078125, 309.2210388183594, 292.50677490234375, 285.95513916015625, 280.859619140625, 278.5482482910156, 272.9940185546875, 270.0126037597656, 264.9216613769531, 253.97183227539062, 250.04537963867188, 241.0895538330078, 216.58169555664062, 216.47340393066406, 214.54150390625, 213.07823181152344, 205.22567749023438, 198.08206176757812, 191.6734619140625, 188.61856079101562, 460.08154296875, 221.4085235595703, 592.903076171875, 447.32879638671875, 411.6178283691406, 737.7789916992188, 367.76458740234375, 530.046630859375, 440.2181091308594, 455.5742492675781, 802.6224975585938, 1766.90771484375, 946.7933959960938, 628.0999145507812, 569.1524047851562, 682.359130859375, 553.34326171875, 506.7645263671875, 489.4810791015625, 462.0077819824219, 448.5000305175781, 438.9169616699219, 415.0884704589844, 376.9977111816406, 368.1817932128906, 354.19482421875, 344.3601989746094, 335.8399963378906, 316.6572570800781, 313.6293640136719, 313.8293151855469, 303.5938720703125, 282.3120422363281, 275.11456298828125, 274.24774169921875, 271.1419677734375, 258.1324768066406, 244.74855041503906, 243.48329162597656, 237.41751098632812, 235.36538696289062, 234.88246154785156, 255.82945251464844, 241.71072387695312, 802.6224975585938, 700.9764404296875, 455.19140625, 1803.39794921875, 2035.70068359375, 497.1708679199219, 1766.90771484375, 976.2503051757812, 747.628173828125, 500.56805419921875, 485.38922119140625, 484.5221862792969, 457.7159118652344, 429.5700378417969, 400.47686767578125, 399.63983154296875, 398.8316955566406, 394.4725646972656, 361.5233459472656, 320.2068786621094, 311.10858154296875, 294.9361267089844, 797.572509765625, 288.2152099609375, 281.9438781738281, 270.468505859375, 270.08837890625, 270.0823059082031, 267.4256896972656, 271.9244384765625, 265.9559020996094, 265.9397888183594, 264.6099548339844, 251.28114318847656, 253.617431640625, 301.6864929199219, 236.98562622070312, 439.79608154296875, 468.7397766113281, 400.5936279296875, 443.45294189453125, 466.6971740722656, 337.31842041015625, 1203.7542724609375, 960.637939453125, 757.4068603515625, 642.0308227539062, 569.2092895507812, 624.9674072265625, 490.4198913574219, 527.449951171875, 369.1442565917969, 362.48870849609375, 357.3980407714844, 347.5689392089844, 828.9918212890625, 333.841064453125, 325.4251708984375, 295.6864318847656, 290.57208251953125, 287.412841796875, 277.10894775390625, 265.60784912109375, 259.8737487792969, 257.5661315917969, 250.83168029785156, 238.41188049316406, 226.6318817138672, 225.88287353515625, 223.1179962158203, 219.6798553466797, 215.8489227294922, 213.3717041015625, 208.43853759765625, 475.9234313964844, 688.5714111328125, 752.0352783203125, 395.3428955078125, 908.9976196289062, 372.2291564941406, 696.1904907226562, 1224.3131103515625, 712.3599853515625, 591.0205688476562, 481.93170166015625, 476.6681823730469, 412.3258972167969, 334.42974853515625, 328.3601379394531, 319.0820617675781, 313.4339904785156, 298.527099609375, 305.7756652832031, 293.52252197265625, 284.19622802734375, 273.1780090332031, 265.3765563964844, 254.393798828125, 378.9063720703125, 243.34878540039062, 242.44369506835938, 242.3662872314453, 239.3831787109375, 234.0648193359375, 220.9996337890625, 216.9298858642578, 215.2854766845703, 210.61061096191406, 205.3455352783203, 202.66299438476562, 205.60772705078125, 199.72161865234375, 203.62586975097656, 306.8448486328125, 1224.3131103515625, 583.71435546875, 501.13800048828125, 449.9000549316406, 732.7767333984375, 1766.90771484375, 892.1740112304688], \"loglift\": [30.0, 29.0, 28.0, 27.0, 26.0, 25.0, 24.0, 23.0, 22.0, 21.0, 20.0, 19.0, 18.0, 17.0, 16.0, 15.0, 14.0, 13.0, 12.0, 11.0, 10.0, 9.0, 8.0, 7.0, 6.0, 5.0, 4.0, 3.0, 2.0, 1.0, 2.0631000995635986, 2.0629000663757324, 2.0625998973846436, 2.0625998973846436, 2.0625, 2.0624001026153564, 2.0624001026153564, 2.0624001026153564, 2.062299966812134, 2.0622000694274902, 2.0620999336242676, 2.062000036239624, 2.062000036239624, 2.062000036239624, 2.061800003051758, 2.061800003051758, 2.0617001056671143, 2.0617001056671143, 2.061500072479248, 2.0613999366760254, 2.061300039291382, 2.061199903488159, 2.0611000061035156, 2.0611000061035156, 2.060800075531006, 2.060800075531006, 2.060699939727783, 2.0604000091552734, 2.0601999759674072, 2.0601999759674072, 2.0589001178741455, 1.8473999500274658, 1.9391000270843506, 1.854200005531311, 1.9536000490188599, 1.3568999767303467, 2.1345999240875244, 2.1342999935150146, 2.1338999271392822, 2.133699893951416, 2.133699893951416, 2.133699893951416, 2.1335999965667725, 2.1333999633789062, 2.1333000659942627, 2.13319993019104, 2.1331000328063965, 2.132999897003174, 2.1328999996185303, 2.132499933242798, 2.1324000358581543, 2.1322999000549316, 2.1322999000549316, 2.1322999000549316, 2.1322999000549316, 2.132200002670288, 2.131999969482422, 2.131999969482422, 2.131999969482422, 2.131999969482422, 2.1319000720977783, 2.1317999362945557, 2.131700038909912, 2.1315999031066895, 2.1315999031066895, 2.1314001083374023, 2.0662999153137207, 1.9955999851226807, 2.0065999031066895, 1.961899995803833, 1.9004000425338745, 1.5844999551773071, 1.7970999479293823, 1.8849999904632568, 1.9984999895095825, 1.2869999408721924, 1.4142999649047852, 1.5635000467300415, 1.5808000564575195, 1.7867000102996826, 2.3071999549865723, 2.3071000576019287, 2.30679988861084, 2.30679988861084, 2.30649995803833, 2.3064000606536865, 2.3060998916625977, 2.305999994277954, 2.305999994277954, 2.3055999279022217, 2.305500030517578, 2.3053998947143555, 2.305299997329712, 2.3050999641418457, 2.305000066757202, 2.3048999309539795, 2.3046998977661133, 2.3046998977661133, 2.3041999340057373, 2.3041999340057373, 2.3041999340057373, 2.3041000366210938, 2.3041000366210938, 2.303999900817871, 2.3039000034332275, 2.3036999702453613, 2.3036999702453613, 2.3036000728607178, 2.303499937057495, 2.303499937057495, 2.2918999195098877, 2.0306999683380127, 2.0392000675201416, 2.1120998859405518, 1.8335000276565552, 1.746500015258789, 2.009999990463257, 1.205399990081787, 2.344399929046631, 2.3438000679016113, 2.3436999320983887, 2.3434998989105225, 2.3433001041412354, 2.3431999683380127, 2.343100070953369, 2.3429999351501465, 2.3429999351501465, 2.3429999351501465, 2.3427000045776367, 2.3424999713897705, 2.342400074005127, 2.342400074005127, 2.342400074005127, 2.3422999382019043, 2.3422000408172607, 2.3422000408172607, 2.342099905014038, 2.3420000076293945, 2.3420000076293945, 2.341900110244751, 2.341900110244751, 2.3417999744415283, 2.341599941253662, 2.3413000106811523, 2.341200113296509, 2.341200113296509, 2.341099977493286, 2.34089994430542, 2.339400053024292, 2.2683000564575195, 2.1364998817443848, 2.096100091934204, 1.8796000480651855, 1.975100040435791, 1.9878000020980835, 1.1216000318527222, 0.6029999852180481, 0.8206999897956848, 2.350100040435791, 2.3494999408721924, 2.349400043487549, 2.349299907684326, 2.349299907684326, 2.349100112915039, 2.349100112915039, 2.349100112915039, 2.348900079727173, 2.348900079727173, 2.34879994392395, 2.34879994392395, 2.348599910736084, 2.3485000133514404, 2.348299980163574, 2.348299980163574, 2.3482000827789307, 2.3482000827789307, 2.3482000827789307, 2.348099946975708, 2.348099946975708, 2.347899913787842, 2.3478000164031982, 2.3477001190185547, 2.3477001190185547, 2.3477001190185547, 2.347399950027466, 2.347399950027466, 2.3473000526428223, 2.347100019454956, 2.330699920654297, 2.065700054168701, 2.125699996948242, 2.0083999633789062, 1.3476999998092651, 1.9523999691009521, 2.354599952697754, 2.354300022125244, 2.354300022125244, 2.353800058364868, 2.3536999225616455, 2.353600025177002, 2.3533999919891357, 2.3533999919891357, 2.353300094604492, 2.3531999588012695, 2.353100061416626, 2.3529999256134033, 2.3529000282287598, 2.352799892425537, 2.3526999950408936, 2.3526999950408936, 2.3526999950408936, 2.35260009765625, 2.35260009765625, 2.352400064468384, 2.352400064468384, 2.3522000312805176, 2.351799964904785, 2.351799964904785, 2.351799964904785, 2.3517000675201416, 2.351599931716919, 2.3513998985290527, 2.351300001144409, 2.3512001037597656, 2.350800037384033, 2.3506999015808105, 2.1728999614715576, 2.1598000526428223, 2.141200065612793, 1.763700008392334, 2.0687999725341797, 1.864799976348877, 1.9637999534606934, 1.8818999528884888, 1.332900047302246, 0.511900007724762, 2.35509991645813, 2.354599952697754, 2.3545000553131104, 2.3543999195098877, 2.3543999195098877, 2.354300022125244, 2.3541998863220215, 2.354099988937378, 2.354099988937378, 2.3540000915527344, 2.353800058364868, 2.3536999225616455, 2.353600025177002, 2.3534998893737793, 2.3533999919891357, 2.3533999919891357, 2.3531999588012695, 2.3531999588012695, 2.3531999588012695, 2.3529999256134033, 2.3529000282287598, 2.352799892425537, 2.352799892425537, 2.352799892425537, 2.35260009765625, 2.352400064468384, 2.352400064468384, 2.352299928665161, 2.352299928665161, 2.352299928665161, 2.3522000312805176, 2.3522000312805176, 1.9086999893188477, 1.8707000017166138, 1.9673999547958374, 0.9362999796867371, 0.6880999803543091, 1.7202999591827393, 0.47360000014305115, 2.3812999725341797, 2.3810999393463135, 2.380500078201294, 2.3803999423980713, 2.3803999423980713, 2.3803000450134277, 2.380199909210205, 2.380000114440918, 2.380000114440918, 2.380000114440918, 2.380000114440918, 2.3798000812530518, 2.379499912261963, 2.3794000148773193, 2.379199981689453, 2.379199981689453, 2.379199981689453, 2.3791000843048096, 2.378999948501587, 2.378999948501587, 2.378999948501587, 2.3789000511169434, 2.3789000511169434, 2.3789000511169434, 2.3789000511169434, 2.3787999153137207, 2.378700017929077, 2.378700017929077, 2.3785998821258545, 2.378499984741211, 2.376300096511841, 2.0632998943328857, 2.1040000915527344, 2.0190999507904053, 1.9637000560760498, 2.1468000411987305, 0.880299985408783, 2.384399890899658, 2.384200096130371, 2.384000062942505, 2.3838000297546387, 2.383699893951416, 2.3835999965667725, 2.383500099182129, 2.382999897003174, 2.3828999996185303, 2.3828999996185303, 2.3828001022338867, 2.3828001022338867, 2.382699966430664, 2.3826000690460205, 2.3824000358581543, 2.3822999000549316, 2.3822999000549316, 2.382200002670288, 2.381999969482422, 2.381999969482422, 2.3819000720977783, 2.3817999362945557, 2.3815999031066895, 2.3814001083374023, 2.3814001083374023, 2.3814001083374023, 2.3812999725341797, 2.3812999725341797, 2.381200075149536, 2.3810999393463135, 2.2486000061035156, 2.0961999893188477, 2.058500051498413, 2.183000087738037, 1.5326999425888062, 2.0627999305725098, 1.4914000034332275, 0.7738999724388123, 2.4045000076293945, 2.4042000770568848, 2.403899908065796, 2.403899908065796, 2.403599977493286, 2.40310001373291, 2.40310001373291, 2.4030001163482666, 2.402899980545044, 2.4028000831604004, 2.4028000831604004, 2.4026999473571777, 2.402600049972534, 2.4024999141693115, 2.4022998809814453, 2.4022998809814453, 2.4021999835968018, 2.402100086212158, 2.402100086212158, 2.402100086212158, 2.4019999504089355, 2.4019999504089355, 2.401700019836426, 2.401700019836426, 2.401599884033203, 2.4014999866485596, 2.401400089263916, 2.401400089263916, 2.4012999534606934, 2.4012999534606934, 2.4012999534606934, 2.335099935531616, 1.6578999757766724, 1.9544999599456787, 1.8901000022888184, 1.9048999547958374, 1.5627000331878662, 0.9265999794006348, 1.0087000131607056]}, \"R\": 30, \"plot.opts\": {\"ylab\": \"PC2\", \"xlab\": \"PC1\"}, \"lambda.step\": 0.01, \"mdsDat\": {\"topics\": [1, 2, 3, 4, 5, 6, 7, 8, 9, 10], \"x\": [-0.24013295632294168, 0.1945879289752939, 0.002112904153437516, 0.026349407181356196, -0.22141074844732495, 0.10171663757937488, 0.20642235540281964, 0.033332397962716954, -0.17949673200792116, 0.07651880552318836], \"y\": [0.21218121268029433, 0.09516722459578668, -0.11564220743068383, -0.05428502788247113, 0.1243337967646013, 0.18120152135925513, 0.081418181483196, -0.12697552910513052, -0.23842316024043195, -0.15897601222441615], \"cluster\": [1, 1, 1, 1, 1, 1, 1, 1, 1, 1], \"Freq\": [12.701262474060059, 11.822291374206543, 9.947493553161621, 9.581658363342285, 9.527143478393555, 9.480757713317871, 9.479639053344727, 9.234424591064453, 9.205507278442383, 9.01982593536377]}, \"token.table\": {\"Topic\": [4, 3, 6, 6, 1, 2, 1, 5, 4, 5, 10, 7, 3, 1, 1, 9, 10, 1, 1, 6, 1, 10, 3, 8, 2, 4, 7, 9, 10, 1, 4, 5, 8, 9, 6, 4, 7, 1, 10, 9, 3, 4, 6, 9, 6, 1, 1, 9, 1, 2, 3, 8, 4, 6, 10, 1, 7, 8, 8, 10, 5, 4, 2, 1, 2, 4, 5, 7, 5, 9, 7, 6, 2, 5, 5, 2, 3, 5, 4, 1, 4, 5, 8, 4, 7, 5, 7, 7, 2, 4, 3, 5, 7, 6, 7, 6, 10, 7, 3, 6, 2, 7, 4, 5, 7, 8, 10, 6, 7, 9, 8, 6, 8, 2, 4, 6, 7, 10, 5, 1, 6, 1, 2, 7, 8, 4, 8, 5, 9, 4, 1, 3, 4, 7, 10, 1, 5, 10, 6, 2, 6, 6, 3, 2, 1, 4, 9, 4, 8, 1, 9, 4, 8, 1, 9, 2, 8, 10, 6, 7, 3, 3, 4, 7, 3, 1, 6, 9, 8, 3, 7, 8, 7, 8, 1, 2, 4, 6, 9, 10, 8, 9, 2, 8, 8, 10, 8, 3, 2, 3, 2, 6, 4, 7, 4, 4, 6, 7, 6, 5, 3, 3, 4, 6, 2, 6, 7, 2, 7, 8, 9, 1, 5, 6, 1, 2, 7, 8, 10, 2, 8, 1, 6, 5, 7, 8, 7, 6, 5, 3, 3, 5, 5, 8, 3, 2, 3, 6, 7, 5, 1, 2, 3, 5, 8, 2, 8, 2, 10, 2, 10, 5, 6, 2, 6, 7, 10, 3, 1, 1, 4, 5, 6, 1, 8, 8, 3, 10, 1, 10, 7, 5, 2, 4, 3, 8, 10, 4, 10, 2, 6, 5, 6, 1, 7, 6, 9, 9, 2, 3, 4, 2, 10, 8, 4, 7, 5, 3, 7, 4, 4, 6, 8, 9, 9, 1, 8, 5, 4, 6, 8, 9, 10, 2, 9, 3, 4, 6, 8, 3, 4, 2, 10, 5, 8, 6, 7, 10, 7, 9, 1, 6, 6, 2, 4, 5, 6, 7, 8, 10, 2, 10, 4, 5, 5, 1, 4, 6, 1, 9, 3, 2, 4, 8, 7, 3, 9, 1, 2, 3, 2, 6, 2, 2, 2, 2, 8, 7, 5, 7, 7, 4, 8, 10, 8, 7, 4, 9, 7, 7, 3, 10, 8, 2, 4, 6, 7, 6, 4, 3, 4, 7, 9, 9, 1, 6, 7, 5, 7, 9, 9, 2, 3, 1, 2, 4, 6, 7, 8, 9, 10, 10, 9, 9, 3, 5, 1, 2, 4, 7, 9, 6, 3, 3, 1, 2, 4, 8, 3, 1, 3, 9, 3, 8, 2, 3, 4, 5, 8, 9, 10, 5, 4, 1, 3, 2, 3, 2, 4, 9, 10, 3, 5, 8, 2, 7, 1, 10, 1, 3, 4, 7, 8, 10, 5, 9, 10, 7, 8, 9, 10, 2, 8, 10, 1, 9, 10, 6, 2, 9, 1, 2, 6, 8, 9, 7, 9, 2, 2, 1, 4, 8, 5, 6, 2, 10, 7, 9, 2, 7, 4, 4, 7, 7, 10, 2, 4, 3, 4, 5, 6, 8, 9, 2, 3, 6, 7, 8, 9, 5, 9, 8, 4, 3, 6, 8, 10, 8, 1, 8, 9, 10, 5, 10, 2, 5, 10], \"Term\": [\"abbott\", \"abus\", \"abus\", \"accid\", \"accus\", \"action\", \"adelaid\", \"adelaid\", \"ahead\", \"airport\", \"alic\", \"alleg\", \"announc\", \"anti\", \"appeal\", \"appeal\", \"approv\", \"arrest\", \"assault\", \"asylum\", \"attack\", \"attempt\", \"aussi\", \"aussi\", \"aust\", \"australia\", \"australia\", \"australia\", \"australia\", \"australian\", \"australian\", \"australian\", \"australian\", \"australian\", \"award\", \"babi\", \"back\", \"bail\", \"bali\", \"ban\", \"bank\", \"battl\", \"beach\", \"begin\", \"black\", \"blast\", \"blaze\", \"blue\", \"bomb\", \"boost\", \"boost\", \"boost\", \"boss\", \"break\", \"bring\", \"brisban\", \"brisban\", \"brisban\", \"build\", \"build\", \"burn\", \"bushfir\", \"busi\", \"call\", \"call\", \"call\", \"call\", \"campaign\", \"canberra\", \"cancer\", \"candid\", \"carbon\", \"care\", \"case\", \"celebr\", \"centr\", \"central\", \"challeng\", \"chang\", \"charg\", \"chief\", \"chief\", \"chief\", \"china\", \"chines\", \"christma\", \"citi\", \"claim\", \"clash\", \"climat\", \"close\", \"close\", \"close\", \"closer\", \"closur\", \"club\", \"coach\", \"coal\", \"coast\", \"come\", \"communiti\", \"compani\", \"concern\", \"concern\", \"concern\", \"concern\", \"concern\", \"consid\", \"continu\", \"continu\", \"control\", \"cost\", \"cost\", \"council\", \"council\", \"council\", \"council\", \"council\", \"countri\", \"court\", \"court\", \"crash\", \"crash\", \"crime\", \"crisi\", \"cross\", \"cut\", \"damag\", \"danger\", \"darwin\", \"dead\", \"deal\", \"deal\", \"deal\", \"deal\", \"death\", \"death\", \"debat\", \"decis\", \"defend\", \"defend\", \"demand\", \"despit\", \"develop\", \"die\", \"die\", \"die\", \"discuss\", \"doctor\", \"drive\", \"drive\", \"driver\", \"drought\", \"drug\", \"earli\", \"east\", \"educ\", \"effort\", \"elect\", \"elect\", \"energi\", \"england\", \"expect\", \"export\", \"extend\", \"face\", \"face\", \"face\", \"fail\", \"fall\", \"fall\", \"farm\", \"farmer\", \"farmer\", \"fatal\", \"feder\", \"feder\", \"feder\", \"fight\", \"fin\", \"final\", \"final\", \"find\", \"find\", \"fire\", \"flight\", \"flood\", \"food\", \"free\", \"fuel\", \"fund\", \"fund\", \"futur\", \"futur\", \"game\", \"get\", \"get\", \"get\", \"girl\", \"give\", \"gold\", \"good\", \"good\", \"govern\", \"govt\", \"grant\", \"green\", \"group\", \"group\", \"group\", \"grower\", \"guilti\", \"guilti\", \"hand\", \"head\", \"head\", \"head\", \"head\", \"head\", \"health\", \"health\", \"hear\", \"hear\", \"high\", \"high\", \"highlight\", \"highway\", \"hill\", \"hit\", \"hobart\", \"home\", \"home\", \"honour\", \"hop\", \"hope\", \"hospit\", \"hospit\", \"hospit\", \"hospit\", \"hour\", \"hous\", \"hous\", \"hous\", \"hous\", \"hous\", \"howard\", \"hunt\", \"hunter\", \"india\", \"indigen\", \"indonesia\", \"injur\", \"inquest\", \"inquiri\", \"inquiri\", \"inquiri\", \"intern\", \"interview\", \"investig\", \"iraq\", \"iraqi\", \"issu\", \"issu\", \"jail\", \"japan\", \"job\", \"john\", \"join\", \"kill\", \"korea\", \"labor\", \"land\", \"launch\", \"law\", \"lead\", \"lead\", \"leader\", \"leagu\", \"leav\", \"legal\", \"liber\", \"life\", \"like\", \"link\", \"live\", \"long\", \"lose\", \"loss\", \"manag\", \"market\", \"match\", \"mayor\", \"media\", \"medic\", \"meet\", \"meet\", \"million\", \"mine\", \"mine\", \"miner\", \"minist\", \"minist\", \"minist\", \"minist\", \"miss\", \"murder\", \"murray\", \"name\", \"nation\", \"nation\", \"nation\", \"nation\", \"newcastl\", \"news\", \"news\", \"north\", \"north\", \"nuclear\", \"number\", \"nurs\", \"obama\", \"offer\", \"offer\", \"offic\", \"open\", \"opposit\", \"pacif\", \"pakistan\", \"park\", \"parliament\", \"parti\", \"parti\", \"peopl\", \"plan\", \"plan\", \"plan\", \"plan\", \"plan\", \"plan\", \"plan\", \"plane\", \"plant\", \"play\", \"player\", \"plead\", \"polic\", \"polici\", \"poll\", \"port\", \"post\", \"power\", \"premier\", \"premier\", \"presid\", \"pressur\", \"price\", \"prison\", \"probe\", \"probe\", \"profit\", \"program\", \"project\", \"propos\", \"protect\", \"public\", \"push\", \"queensland\", \"question\", \"race\", \"raid\", \"rail\", \"rain\", \"rain\", \"rais\", \"ralli\", \"rat\", \"rate\", \"readi\", \"region\", \"reject\", \"report\", \"rescu\", \"research\", \"resid\", \"resid\", \"resid\", \"return\", \"reveal\", \"review\", \"rise\", \"rise\", \"rise\", \"risk\", \"river\", \"road\", \"road\", \"road\", \"royal\", \"rudd\", \"rural\", \"sack\", \"safeti\", \"sale\", \"say\", \"say\", \"say\", \"say\", \"say\", \"say\", \"say\", \"say\", \"scientist\", \"search\", \"season\", \"second\", \"secur\", \"seek\", \"seek\", \"seek\", \"seek\", \"seek\", \"seeker\", \"sell\", \"send\", \"sentenc\", \"servic\", \"servic\", \"servic\", \"share\", \"shoot\", \"shortag\", \"show\", \"sign\", \"slam\", \"south\", \"south\", \"south\", \"south\", \"south\", \"south\", \"south\", \"speak\", \"sport\", \"stab\", \"staff\", \"station\", \"station\", \"stop\", \"stop\", \"storm\", \"strike\", \"strong\", \"student\", \"studi\", \"support\", \"support\", \"suspect\", \"suspend\", \"sydney\", \"sydney\", \"sydney\", \"sydney\", \"sydney\", \"sydney\", \"take\", \"talk\", \"talk\", \"target\", \"tasmania\", \"tasmanian\", \"teacher\", \"team\", \"team\", \"team\", \"teen\", \"test\", \"thousand\", \"threat\", \"threaten\", \"tiger\", \"time\", \"time\", \"time\", \"time\", \"time\", \"toll\", \"tour\", \"track\", \"train\", \"trial\", \"troop\", \"trump\", \"turn\", \"turnbul\", \"union\", \"union\", \"unit\", \"upgrad\", \"urg\", \"victori\", \"victoria\", \"violenc\", \"visit\", \"vote\", \"vote\", \"want\", \"want\", \"warn\", \"warn\", \"warn\", \"warn\", \"warn\", \"warn\", \"water\", \"water\", \"water\", \"water\", \"water\", \"water\", \"weather\", \"week\", \"welcom\", \"west\", \"win\", \"win\", \"win\", \"win\", \"wind\", \"woman\", \"women\", \"women\", \"worker\", \"world\", \"world\", \"worri\", \"year\", \"youth\"], \"Freq\": [0.9961519241333008, 0.247440904378891, 0.7504801154136658, 0.9980317950248718, 0.99920654296875, 0.9968703389167786, 0.28880250453948975, 0.7102980613708496, 0.9966777563095093, 0.9973897337913513, 0.9957134127616882, 0.9984913468360901, 0.9976086616516113, 0.9969571828842163, 0.8956232666969299, 0.10163101553916931, 0.9948128461837769, 0.9987181425094604, 0.998465359210968, 0.996249794960022, 0.9988335371017456, 0.9954767823219299, 0.8232728242874146, 0.17553265392780304, 0.9977463483810425, 0.21808147430419922, 0.10863234102725983, 0.19929541647434235, 0.4737350344657898, 0.17694035172462463, 0.12926730513572693, 0.36671575903892517, 0.21544550359249115, 0.11184830218553543, 0.9979429244995117, 0.9956223368644714, 0.9979108572006226, 0.9980036616325378, 0.993447482585907, 0.9985635876655579, 0.9970077872276306, 0.9963989853858948, 0.9973142147064209, 0.9974806308746338, 0.9969393014907837, 0.9966320395469666, 0.9986630082130432, 0.9977114796638489, 0.9990841150283813, 0.574382483959198, 0.167642742395401, 0.25696060061454773, 0.9958569407463074, 0.9977937340736389, 0.9963868856430054, 0.2956949472427368, 0.04499705880880356, 0.6578141450881958, 0.7563774585723877, 0.24214065074920654, 0.9977144598960876, 0.9979902505874634, 0.9993676543235779, 0.026621488854289055, 0.322930246591568, 0.6273412108421326, 0.021991664543747902, 0.9957882761955261, 0.9987809062004089, 0.9959981441497803, 0.9941988587379456, 0.9949397444725037, 0.998306930065155, 0.9986213445663452, 0.9950664639472961, 0.9979318380355835, 0.9938365817070007, 0.9978964924812317, 0.9987244606018066, 0.9993309378623962, 0.260272353887558, 0.010666899383068085, 0.7274825572967529, 0.9982738494873047, 0.9954503178596497, 0.9978497624397278, 0.9979932904243469, 0.9991620182991028, 0.9960275888442993, 0.9953227043151855, 0.31980955600738525, 0.14884218573570251, 0.5289931893348694, 0.9974759817123413, 0.9969415664672852, 0.9986966252326965, 0.9966088533401489, 0.9960500597953796, 0.9985635876655579, 0.9940276741981506, 0.9971774220466614, 0.9967901706695557, 0.0013646722072735429, 0.15011394023895264, 0.20333614945411682, 0.2142535299062729, 0.42987173795700073, 0.9986233115196228, 0.001206284505315125, 0.9975972771644592, 0.9966003894805908, 0.3021741211414337, 0.6945494413375854, 0.4280807673931122, 0.09426649659872055, 0.13363662362098694, 0.2417658269405365, 0.10147510468959808, 0.9982016682624817, 0.9988954067230225, 0.0006663745152764022, 0.9984362125396729, 0.0009185245726257563, 0.9967578053474426, 0.9959926605224609, 0.9967523813247681, 0.9979146718978882, 0.9970752000808716, 0.9969052672386169, 0.9973946809768677, 0.9982690215110779, 0.5708968043327332, 0.01502359937876463, 0.20866110920906067, 0.2053225338459015, 0.995558500289917, 0.0040103062056005, 0.9987149834632874, 0.9970162510871887, 0.3753504455089569, 0.6233890652656555, 0.9963588118553162, 0.9966687560081482, 0.9983413219451904, 0.8105066418647766, 0.0014736484736204147, 0.18715335428714752, 0.9984868168830872, 0.9983989596366882, 0.27402475476264954, 0.7253596186637878, 0.9990589022636414, 0.9985523819923401, 0.9995124936103821, 0.9949892163276672, 0.9969414472579956, 0.9958409667015076, 0.9971007704734802, 0.3600696623325348, 0.6391547918319702, 0.9964799284934998, 0.9978899955749512, 0.9976798892021179, 0.9956128001213074, 0.9947519302368164, 0.8060638904571533, 0.02273065224289894, 0.170479878783226, 0.9988020062446594, 0.9832216501235962, 0.013040075078606606, 0.9989222884178162, 0.0025076090823858976, 0.9967745542526245, 0.9978254437446594, 0.19762930274009705, 0.12493807077407837, 0.6746655702590942, 0.9981425404548645, 0.9957908391952515, 0.24979253113269806, 0.7493776082992554, 0.2075190544128418, 0.7915369868278503, 0.9964057803153992, 0.9981698989868164, 0.9991597533226013, 0.9976433515548706, 0.9977850914001465, 0.9969663619995117, 0.87012779712677, 0.12966610491275787, 0.6983266472816467, 0.298932820558548, 0.9982863068580627, 0.002173527842387557, 0.995475709438324, 0.002173527842387557, 0.99652099609375, 0.9969527125358582, 0.9980074167251587, 0.003570537781342864, 0.9926095008850098, 0.9989760518074036, 0.9995054602622986, 0.9966598153114319, 0.998248815536499, 0.8795950412750244, 0.10629082471132278, 0.013864019885659218, 0.9960914254188538, 0.3263879120349884, 0.6710352897644043, 0.9936383366584778, 0.23338517546653748, 0.06890419125556946, 0.0066681476309895515, 0.08224048465490341, 0.606801450252533, 0.7909657955169678, 0.2078450322151184, 0.386758416891098, 0.6112669706344604, 0.7984045147895813, 0.19960112869739532, 0.997565507888794, 0.9953525066375732, 0.9972080588340759, 0.9960972666740417, 0.9972410798072815, 0.7584799528121948, 0.24066056311130524, 0.9980358481407166, 0.996230959892273, 0.9982202053070068, 0.713046133518219, 0.0011670149397104979, 0.17621925473213196, 0.1085323840379715, 0.9988423585891724, 0.254903107881546, 0.19368621706962585, 0.3321768641471863, 0.1144053265452385, 0.10336621850728989, 0.9957634806632996, 0.9957836866378784, 0.9970555901527405, 0.9982343316078186, 0.9984195232391357, 0.9940289855003357, 0.9964635968208313, 0.9978131055831909, 0.14530698955059052, 0.8226611018180847, 0.029061397537589073, 0.9970442652702332, 0.9993872046470642, 0.9983132481575012, 0.9991887807846069, 0.9939396381378174, 0.9792776107788086, 0.019076837226748466, 0.9988077282905579, 0.9982677698135376, 0.9991981387138367, 0.9943721294403076, 0.9956877827644348, 0.9990301728248596, 0.9944574236869812, 0.9980081915855408, 0.9985395073890686, 0.9981560707092285, 0.9968014359474182, 0.7637225389480591, 0.23499155044555664, 0.9980667233467102, 0.9955998063087463, 0.9982731938362122, 0.9973731637001038, 0.9968465566635132, 0.9980387687683105, 0.9961734414100647, 0.995777428150177, 0.9966266751289368, 0.996720552444458, 0.9978755116462708, 0.9982724189758301, 0.9981852173805237, 0.9985476732254028, 0.998231828212738, 0.9984865188598633, 0.9958577752113342, 0.9984081983566284, 0.7784919142723083, 0.2190731018781662, 0.9974685907363892, 0.32074418663978577, 0.6788353323936462, 0.9949826598167419, 0.8109221458435059, 0.03632931411266327, 0.1505071520805359, 0.0012974754208698869, 0.9993359446525574, 0.9991494417190552, 0.9964366555213928, 0.9970608949661255, 0.19141964614391327, 0.2563263177871704, 0.12541286647319794, 0.4257436990737915, 0.9943627119064331, 0.12607069313526154, 0.8719890117645264, 0.30796533823013306, 0.6909679174423218, 0.9958192110061646, 0.9968259930610657, 0.9978180527687073, 0.9979623556137085, 0.4010871350765228, 0.596642017364502, 0.9987981915473938, 0.9987192749977112, 0.9982521533966064, 0.9980151057243347, 0.9986153841018677, 0.9978187084197998, 0.9966843128204346, 0.19192560017108917, 0.8065734505653381, 0.9960512518882751, 0.5767056345939636, 0.016210634261369705, 0.001473694108426571, 0.08940410614013672, 0.18863284587860107, 0.09677257388830185, 0.030456343665719032, 0.9948656558990479, 0.9974632859230042, 0.9973762631416321, 0.9961684942245483, 0.9973484873771667, 0.9996486306190491, 0.996433675289154, 0.9954807162284851, 0.9985402226448059, 0.9960670471191406, 0.9984589219093323, 0.0721934363245964, 0.9251455664634705, 0.9964661598205566, 0.9982414245605469, 0.9992414712905884, 0.9969002604484558, 0.8837027549743652, 0.1161334216594696, 0.9943144917488098, 0.9971508979797363, 0.9982674717903137, 0.9982366561889648, 0.9971594214439392, 0.9981348514556885, 0.9993115663528442, 0.9988651871681213, 0.9988850951194763, 0.9983936548233032, 0.9970595836639404, 0.9973574280738831, 0.00454756198450923, 0.9936423301696777, 0.9984520077705383, 0.9959703087806702, 0.9973535537719727, 0.9977195858955383, 0.9978020191192627, 0.9990171790122986, 0.99797523021698, 0.9988905787467957, 0.9967843294143677, 0.9986730217933655, 0.7058897614479065, 0.00828023161739111, 0.2856680154800415, 0.9975724816322327, 0.9977931380271912, 0.9973035454750061, 0.6219800710678101, 0.22873541712760925, 0.14760757982730865, 0.9976785182952881, 0.9988862872123718, 0.3694846034049988, 0.014265814796090126, 0.6148566007614136, 0.9956552982330322, 0.9974988102912903, 0.9983944296836853, 0.9935712814331055, 0.9969807863235474, 0.9977195858955383, 0.04810664430260658, 0.14092417061328888, 0.17488180100917816, 0.15846894681453705, 0.15224337577819824, 0.08942176401615143, 0.00848940759897232, 0.2280820906162262, 0.9969263672828674, 0.997251033782959, 0.9986518025398254, 0.9974106550216675, 0.9992246627807617, 0.1691095232963562, 0.5648257732391357, 0.11950406432151794, 0.14317938685417175, 0.003382190363481641, 0.9945372939109802, 0.9946374893188477, 0.9963908791542053, 0.9975897669792175, 0.9334833025932312, 0.06075926497578621, 0.004142677411437035, 0.9980447888374329, 0.9978398680686951, 0.9971064925193787, 0.9966378211975098, 0.9983069896697998, 0.9976949095726013, 0.0976744145154953, 0.17093022167682648, 0.16805745661258698, 0.0028727769386023283, 0.08618330955505371, 0.4093707203865051, 0.06320109218358994, 0.9968100786209106, 0.9981213212013245, 0.9964228868484497, 0.9979658126831055, 0.25648942589759827, 0.7432363629341125, 0.8711984157562256, 0.12445691972970963, 0.9991438388824463, 0.9985982179641724, 0.9956305027008057, 0.9978269338607788, 0.998435914516449, 0.7793611884117126, 0.22025424242019653, 0.9983428716659546, 0.9967285990715027, 0.49356770515441895, 0.16655370593070984, 0.17772498726844788, 0.02742042765021324, 0.06093428283929825, 0.07413671165704727, 0.9978679418563843, 0.7207108736038208, 0.2779124975204468, 0.9973777532577515, 0.9977244734764099, 0.9983630776405334, 0.9982198476791382, 0.0586615689098835, 0.006517951842397451, 0.9320671558380127, 0.997256875038147, 0.9984520673751831, 0.9954507350921631, 0.9981375336647034, 0.9968426823616028, 0.9986934661865234, 0.0016866163350641727, 0.015179546549916267, 0.8331884741783142, 0.04722525551915169, 0.10119698196649551, 0.9962429404258728, 0.9980311989784241, 0.9964309334754944, 0.998150646686554, 0.9983892440795898, 0.9943098425865173, 0.9949015378952026, 0.9950880408287048, 0.9964864253997803, 0.36147817969322205, 0.6372979879379272, 0.9980438351631165, 0.9978960752487183, 0.9986913204193115, 0.9959487318992615, 0.9979919195175171, 0.995958149433136, 0.9979243874549866, 0.002639174461364746, 0.997607946395874, 0.8416191935539246, 0.15789669752120972, 0.08538176864385605, 0.2942769527435303, 0.19480305910110474, 0.10444759577512741, 0.19148726761341095, 0.1293160766363144, 0.4859795868396759, 0.16863906383514404, 0.01329174917191267, 0.10716472566127777, 0.22263680398464203, 0.0016614686464890838, 0.9969306588172913, 0.9972118735313416, 0.998809278011322, 0.9976464509963989, 0.17755994200706482, 0.5530111193656921, 0.12605400383472443, 0.14231903851032257, 0.9966522455215454, 0.998325526714325, 0.18212038278579712, 0.8170122504234314, 0.9980908632278442, 0.7520954608917236, 0.24770952761173248, 0.996257483959198, 0.9986936450004578, 0.9942219257354736]}, \"topic.order\": [2, 5, 9, 10, 4, 7, 3, 8, 1, 6]};\n",
       "\n",
       "function LDAvis_load_lib(url, callback){\n",
       "  var s = document.createElement('script');\n",
       "  s.src = url;\n",
       "  s.async = true;\n",
       "  s.onreadystatechange = s.onload = callback;\n",
       "  s.onerror = function(){console.warn(\"failed to load library \" + url);};\n",
       "  document.getElementsByTagName(\"head\")[0].appendChild(s);\n",
       "}\n",
       "\n",
       "if(typeof(LDAvis) !== \"undefined\"){\n",
       "   // already loaded: just create the visualization\n",
       "   !function(LDAvis){\n",
       "       new LDAvis(\"#\" + \"ldavis_el24761403433160107123590758751\", ldavis_el24761403433160107123590758751_data);\n",
       "   }(LDAvis);\n",
       "}else if(typeof define === \"function\" && define.amd){\n",
       "   // require.js is available: use it to load d3/LDAvis\n",
       "   require.config({paths: {d3: \"https://cdnjs.cloudflare.com/ajax/libs/d3/3.5.5/d3.min\"}});\n",
       "   require([\"d3\"], function(d3){\n",
       "      window.d3 = d3;\n",
       "      LDAvis_load_lib(\"https://cdn.rawgit.com/bmabey/pyLDAvis/files/ldavis.v1.0.0.js\", function(){\n",
       "        new LDAvis(\"#\" + \"ldavis_el24761403433160107123590758751\", ldavis_el24761403433160107123590758751_data);\n",
       "      });\n",
       "    });\n",
       "}else{\n",
       "    // require.js not available: dynamically load d3 & LDAvis\n",
       "    LDAvis_load_lib(\"https://cdnjs.cloudflare.com/ajax/libs/d3/3.5.5/d3.min.js\", function(){\n",
       "         LDAvis_load_lib(\"https://cdn.rawgit.com/bmabey/pyLDAvis/files/ldavis.v1.0.0.js\", function(){\n",
       "                 new LDAvis(\"#\" + \"ldavis_el24761403433160107123590758751\", ldavis_el24761403433160107123590758751_data);\n",
       "            })\n",
       "         });\n",
       "}\n",
       "</script>"
      ],
      "text/plain": [
       "PreparedData(topic_coordinates=            Freq  cluster  topics         x         y\n",
       "topic                                                \n",
       "1      12.701262        1       1 -0.240133  0.212181\n",
       "4      11.822291        1       2  0.194588  0.095167\n",
       "8       9.947494        1       3  0.002113 -0.115642\n",
       "9       9.581658        1       4  0.026349 -0.054285\n",
       "3       9.527143        1       5 -0.221411  0.124334\n",
       "6       9.480758        1       6  0.101717  0.181202\n",
       "2       9.479639        1       7  0.206422  0.081418\n",
       "7       9.234425        1       8  0.033332 -0.126976\n",
       "0       9.205507        1       9 -0.179497 -0.238423\n",
       "5       9.019826        1      10  0.076519 -0.158976, topic_info=     Category         Freq       Term        Total  loglift  logprob\n",
       "term                                                                \n",
       "4324  Default  3090.000000      polic  3090.000000  30.0000  30.0000\n",
       "1483  Default  1671.000000      charg  1671.000000  29.0000  29.0000\n",
       "4465  Default  1519.000000       govt  1519.000000  28.0000  28.0000\n",
       "6095  Default  1346.000000  interview  1346.000000  27.0000  27.0000\n",
       "1946  Default  1500.000000      court  1500.000000  26.0000  26.0000\n",
       "1824  Default  1238.000000     report  1238.000000  25.0000  25.0000\n",
       "443   Default  1141.000000       kill  1141.000000  24.0000  24.0000\n",
       "4898  Default   990.000000       year   990.000000  23.0000  23.0000\n",
       "1460  Default   976.000000       open   976.000000  22.0000  22.0000\n",
       "3274  Default   960.000000       miss   960.000000  21.0000  21.0000\n",
       "5581  Default  1088.000000      crash  1088.000000  20.0000  20.0000\n",
       "4171  Default   946.000000      claim   946.000000  19.0000  19.0000\n",
       "3765  Default   942.000000      chang   942.000000  18.0000  18.0000\n",
       "1482  Default  1023.000000        urg  1023.000000  17.0000  17.0000\n",
       "6756  Default  1002.000000     murder  1002.000000  16.0000  16.0000\n",
       "4645  Default  1172.000000       fund  1172.000000  15.0000  15.0000\n",
       "2458  Default   997.000000      death   997.000000  14.0000  14.0000\n",
       "7051  Default   865.000000     market   865.000000  13.0000  13.0000\n",
       "5085  Default   964.000000     attack   964.000000  12.0000  12.0000\n",
       "3676  Default   828.000000    continu   828.000000  11.0000  11.0000\n",
       "6133  Default   820.000000      coast   820.000000  10.0000  10.0000\n",
       "310   Default   797.000000     farmer   797.000000   9.0000   9.0000\n",
       "2708  Default  2035.000000       plan  2035.000000   8.0000   8.0000\n",
       "5848  Default   757.000000      fight   757.000000   7.0000   7.0000\n",
       "241   Default   747.000000      flood   747.000000   6.0000   6.0000\n",
       "5990  Default   862.000000       drug   862.000000   5.0000   5.0000\n",
       "4661  Default   855.000000       jail   855.000000   4.0000   4.0000\n",
       "4602  Default   834.000000      accus   834.000000   3.0000   3.0000\n",
       "2952  Default   712.000000     worker   712.000000   2.0000   2.0000\n",
       "1771  Default  1143.000000       face  1143.000000   1.0000   1.0000\n",
       "...       ...          ...        ...          ...      ...      ...\n",
       "3011  Topic10   297.643463      india   298.527100   2.4028  -4.8742\n",
       "4862  Topic10   304.861420      plant   305.775665   2.4028  -4.8503\n",
       "6194  Topic10   292.638885    teacher   293.522522   2.4027  -4.8912\n",
       "7740  Topic10   283.312561        fin   284.196228   2.4026  -4.9236\n",
       "1987  Topic10   272.294342       join   273.178009   2.4025  -4.9632\n",
       "3854  Topic10   264.456024     approv   265.376556   2.4023  -4.9924\n",
       "2229  Topic10   253.510147       rais   254.393799   2.4023  -5.0347\n",
       "5896  Topic10   377.554138       vote   378.906372   2.4022  -4.6364\n",
       "4603  Topic10   242.465103      korea   243.348785   2.4021  -5.0793\n",
       "1693  Topic10   241.560028     flight   242.443695   2.4021  -5.0830\n",
       "3194  Topic10   241.482483   newcastl   242.366287   2.4021  -5.0833\n",
       "5015  Topic10   238.499512      youth   239.383179   2.4020  -5.0957\n",
       "4550  Topic10   233.181152   thousand   234.064819   2.4020  -5.1183\n",
       "2972  Topic10   220.115952    attempt   220.999634   2.4017  -5.1760\n",
       "327   Topic10   216.046219       alic   216.929886   2.4017  -5.1946\n",
       "4629  Topic10   214.401672  indonesia   215.285477   2.4016  -5.2023\n",
       "7056  Topic10   209.726517     effort   210.610611   2.4015  -5.2243\n",
       "3718  Topic10   204.461853       bali   205.345535   2.4014  -5.2497\n",
       "4220  Topic10   201.779327    suspend   202.662994   2.4014  -5.2629\n",
       "3358  Topic10   204.699738     intern   205.607727   2.4013  -5.2486\n",
       "3869  Topic10   198.837952      bring   199.721619   2.4013  -5.2776\n",
       "1367  Topic10   202.721344  scientist   203.625870   2.4013  -5.2583\n",
       "4660  Topic10   285.927460       team   306.844849   2.3351  -4.9144\n",
       "4271  Topic10   579.570374  australia  1224.313110   1.6579  -4.2078\n",
       "3223  Topic10   371.735291      union   583.714355   1.9545  -4.6519\n",
       "7212  Topic10   299.245667      offer   501.138000   1.8901  -4.8688\n",
       "4378  Topic10   272.659058       head   449.900055   1.9049  -4.9619\n",
       "6996  Topic10   315.376007    concern   732.776733   1.5627  -4.8163\n",
       "5176  Topic10   402.548828        say  1766.907715   0.9266  -4.5723\n",
       "5941  Topic10   220.660629      world   892.174011   1.0087  -5.1735\n",
       "\n",
       "[419 rows x 6 columns], token_table=      Topic      Freq        Term\n",
       "term                             \n",
       "3974      4  0.996152      abbott\n",
       "6360      3  0.247441        abus\n",
       "6360      6  0.750480        abus\n",
       "3934      6  0.998032       accid\n",
       "4602      1  0.999207       accus\n",
       "4859      2  0.996870      action\n",
       "1491      1  0.288803     adelaid\n",
       "1491      5  0.710298     adelaid\n",
       "1168      4  0.996678       ahead\n",
       "964       5  0.997390     airport\n",
       "327      10  0.995713        alic\n",
       "79        7  0.998491       alleg\n",
       "426       3  0.997609     announc\n",
       "5637      1  0.996957        anti\n",
       "3793      1  0.895623      appeal\n",
       "3793      9  0.101631      appeal\n",
       "3854     10  0.994813      approv\n",
       "5447      1  0.998718      arrest\n",
       "4671      1  0.998465     assault\n",
       "3670      6  0.996250      asylum\n",
       "5085      1  0.998834      attack\n",
       "2972     10  0.995477     attempt\n",
       "5489      3  0.823273       aussi\n",
       "5489      8  0.175533       aussi\n",
       "4126      2  0.997746        aust\n",
       "4271      4  0.218081   australia\n",
       "4271      7  0.108632   australia\n",
       "4271      9  0.199295   australia\n",
       "4271     10  0.473735   australia\n",
       "1900      1  0.176940  australian\n",
       "...     ...       ...         ...\n",
       "5988      3  0.085382        warn\n",
       "5988      4  0.294277        warn\n",
       "5988      5  0.194803        warn\n",
       "5988      6  0.104448        warn\n",
       "5988      8  0.191487        warn\n",
       "5988      9  0.129316        warn\n",
       "7588      2  0.485980       water\n",
       "7588      3  0.168639       water\n",
       "7588      6  0.013292       water\n",
       "7588      7  0.107165       water\n",
       "7588      8  0.222637       water\n",
       "7588      9  0.001661       water\n",
       "4245      5  0.996931     weather\n",
       "7649      9  0.997212        week\n",
       "3764      8  0.998809      welcom\n",
       "5512      4  0.997646        west\n",
       "5674      3  0.177560         win\n",
       "5674      6  0.553011         win\n",
       "5674      8  0.126054         win\n",
       "5674     10  0.142319         win\n",
       "4836      8  0.996652        wind\n",
       "1510      1  0.998326       woman\n",
       "5120      8  0.182120       women\n",
       "5120      9  0.817012       women\n",
       "2952     10  0.998091      worker\n",
       "5941      5  0.752095       world\n",
       "5941     10  0.247710       world\n",
       "1345      2  0.996257       worri\n",
       "4898      5  0.998694        year\n",
       "5015     10  0.994222       youth\n",
       "\n",
       "[537 rows x 3 columns], R=30, lambda_step=0.01, plot_opts={'ylab': 'PC2', 'xlab': 'PC1'}, topic_order=[2, 5, 9, 10, 4, 7, 3, 8, 1, 6])"
      ]
     },
     "execution_count": 19,
     "metadata": {},
     "output_type": "execute_result"
    }
   ],
   "source": [
    "# Visualize the topics\n",
    "pyLDAvis.enable_notebook()\n",
    "vis = pyLDAvis.gensim.prepare(lda_model, bow_corpus, dictionary)\n",
    "vis"
   ]
  },
  {
   "cell_type": "code",
   "execution_count": 20,
   "metadata": {},
   "outputs": [],
   "source": [
    "def compute_coherence_values(dictionary, corpus, texts, limit, start=2, step=3):\n",
    "    \"\"\"\n",
    "    Compute c_v coherence for various number of topics\n",
    "\n",
    "    Parameters:\n",
    "    ----------\n",
    "    dictionary: Gensim dictionary\n",
    "    corpus: Gensim corpus\n",
    "    texts: List of input texts\n",
    "    limit: Max number of topics\n",
    "    \n",
    "    Returns:\n",
    "    ----------\n",
    "    model_list = List of LDA topic models\n",
    "    coherence_values: Coherence values corresponding to the LDA model with respective number of topics\n",
    "    \"\"\"\n",
    "    \n",
    "    coherence_values = []\n",
    "    model_list = []\n",
    "    for num_topics in range(start, limit, step):\n",
    "        lda_model = gensim.models.ldamodel.LdaModel(corpus=corpus,\n",
    "                                            id2word=dictionary,\n",
    "                                            num_topics=num_topics,\n",
    "                                            random_state=100,\n",
    "                                            update_every=1,\n",
    "                                            chunksize=10000,\n",
    "                                            passes=2,\n",
    "                                            alpha='auto',\n",
    "                                            per_word_topics=True)\n",
    "        #model = gensim.models.wrappers.LdaMallet(mallet_path, corpus=corpus, num_topics=num_topics, id2word=dictionary)\n",
    "        model_list.append(lda_model)\n",
    "        coherence_model_lda = CoherenceModel(model=lda_model, texts=texts, dictionary=dictionary, coherence='c_v')\n",
    "        coherence_values.append(coherence_model_lda.get_coherence())\n",
    "        \n",
    "    return model_list, coherence_values"
   ]
  },
  {
   "cell_type": "code",
   "execution_count": 25,
   "metadata": {},
   "outputs": [],
   "source": [
    "import warnings\n",
    "warnings.filterwarnings(\"ignore\")\n",
    "\n",
    "model_list_lda, coherence_values_lda = compute_coherence_values(dictionary=dictionary, corpus=bow_corpus, \n",
    "                                                                  texts=processed_docs, start=2, limit=15, step=1)"
   ]
  },
  {
   "cell_type": "code",
   "execution_count": 22,
   "metadata": {},
   "outputs": [
    {
     "data": {
      "image/png": "[encoded data removed]",
      "text/plain": [
       "<Figure size 432x288 with 1 Axes>"
      ]
     },
     "metadata": {},
     "output_type": "display_data"
    }
   ],
   "source": [
    "# Show graph\n",
    "limit = 10; start=2; step=1\n",
    "x = range(start, limit, step)\n",
    "plt.plot(x, coherence_values_lda)\n",
    "plt.xlabel(\"Num Topics\")\n",
    "plt.ylabel(\"Coherence Score LDA\")\n",
    "plt.legend((\"coherence_values_lda\"), loc=\"best\")\n",
    "plt.show()"
   ]
  },
  {
   "cell_type": "code",
   "execution_count": 23,
   "metadata": {},
   "outputs": [
    {
     "name": "stdout",
     "output_type": "stream",
     "text": [
      "Num Topics =  2  has Coherence value of  0.4449\n",
      "Num Topics =  3  has Coherence value of  0.3464\n",
      "Num Topics =  4  has Coherence value of  0.3159\n",
      "Num Topics =  5  has Coherence value of  0.3049\n",
      "Num Topics =  6  has Coherence value of  0.31\n",
      "Num Topics =  7  has Coherence value of  0.3312\n",
      "Num Topics =  8  has Coherence value of  0.3063\n",
      "Num Topics =  9  has Coherence value of  0.3308\n"
     ]
    }
   ],
   "source": [
    "# print coherence scores\n",
    "for m, cv in zip(x, coherence_values_lda):\n",
    "    print('Num Topics = ', m, ' has Coherence value of ', round(cv, 4))"
   ]
  },
  {
   "cell_type": "markdown",
   "metadata": {},
   "source": [
    "# NMF\n",
    "\n",
    "Nonnegative matrix factorisation is also a topic modeling technique . It is a dimension reduction and factor analysis techniques . \n",
    "\n",
    "The aim of NMF is like LDA in which it tries to reduce the dimensions of the input matrix \n",
    "A(m * n) into a lesser dimension k << min(m,n) and form  two matrices W(m * k) and H(k * n) in such a  way that\n",
    "A~WH and  min f(W,H)=||A-WH||^2 \n",
    "\n",
    "The matrix W represents the cluster / topic matrix which represents the k topics and the matrix the ith column of matrix H represents the topic proportions of a(i) the document with ith index"
   ]
  },
  {
   "cell_type": "code",
   "execution_count": null,
   "metadata": {},
   "outputs": [],
   "source": [
    "from IPython.display import Image\n",
    "Image(filename=\"NMF.png\")\n",
    "#https://medium.com/ml2vec/topic-modeling-is-an-unsupervised-learning-approach-to-clustering-documents-to-discover-topics-fdfbf30e27df"
   ]
  },
  {
   "cell_type": "markdown",
   "metadata": {},
   "source": [
    "For NMF, we need to obtain a design matrix. To obtain better results ,lets use a TfIdf transformation to the counts."
   ]
  },
  {
   "cell_type": "code",
   "execution_count": null,
   "metadata": {},
   "outputs": [],
   "source": [
    "df = pd.read_csv('abcnews-date-text.csv', error_bad_lines=False)"
   ]
  },
  {
   "cell_type": "code",
   "execution_count": null,
   "metadata": {},
   "outputs": [],
   "source": [
    "train_headlines = df['headline_text']"
   ]
  },
  {
   "cell_type": "code",
   "execution_count": null,
   "metadata": {},
   "outputs": [],
   "source": [
    "#the count vectorizer needs string inputs, not array, so I join them with a space.\n",
    "train_headlines_sentences = list(train_headlines[:100000])"
   ]
  },
  {
   "cell_type": "code",
   "execution_count": null,
   "metadata": {},
   "outputs": [],
   "source": [
    "train_headlines_sentences[:10]"
   ]
  },
  {
   "cell_type": "code",
   "execution_count": null,
   "metadata": {},
   "outputs": [],
   "source": [
    "from sklearn.feature_extraction.text import CountVectorizer, TfidfVectorizer, TfidfTransformer"
   ]
  },
  {
   "cell_type": "code",
   "execution_count": null,
   "metadata": {},
   "outputs": [],
   "source": [
    "#obtain a Counts design matrix. Because the size of the matrix will be large, we can set the max_features to 5000.\n",
    "vectorizer = CountVectorizer(analyzer='word', max_features=10000);\n",
    "x_counts = vectorizer.fit_transform(train_headlines_sentences);"
   ]
  },
  {
   "cell_type": "code",
   "execution_count": null,
   "metadata": {},
   "outputs": [],
   "source": [
    "vectorizer"
   ]
  },
  {
   "cell_type": "code",
   "execution_count": null,
   "metadata": {},
   "outputs": [],
   "source": [
    "x_counts"
   ]
  },
  {
   "cell_type": "code",
   "execution_count": null,
   "metadata": {},
   "outputs": [],
   "source": [
    "#set a TfIdf transformer, and transfer the counts with the model.\n",
    "transformer = TfidfTransformer(smooth_idf=False);\n",
    "x_tfidf = transformer.fit_transform(x_counts);"
   ]
  },
  {
   "cell_type": "code",
   "execution_count": null,
   "metadata": {},
   "outputs": [],
   "source": [
    "from sklearn.preprocessing import normalize\n",
    "#normalize the TfIdf values so each row has unit length.\n",
    "xtfidf_norm = normalize(x_tfidf, norm='l1', axis=1)"
   ]
  },
  {
   "cell_type": "code",
   "execution_count": null,
   "metadata": {},
   "outputs": [],
   "source": [
    "#obtain a NMF model.\n",
    "model = NMF(n_components=10, init='nndsvd');"
   ]
  },
  {
   "cell_type": "code",
   "execution_count": null,
   "metadata": {},
   "outputs": [],
   "source": [
    "#fit the model\n",
    "import time \n",
    "start2 = time.time()\n",
    "model.fit(xtfidf_norm)\n",
    "print ('time to fit the model ' , time.time()-start2)"
   ]
  },
  {
   "cell_type": "code",
   "execution_count": null,
   "metadata": {},
   "outputs": [],
   "source": [
    "model.components_[0]"
   ]
  },
  {
   "cell_type": "code",
   "execution_count": null,
   "metadata": {},
   "outputs": [],
   "source": [
    "num_topics = 10"
   ]
  },
  {
   "cell_type": "code",
   "execution_count": null,
   "metadata": {},
   "outputs": [],
   "source": [
    "def get_nmf_topics(model, n_top_words):\n",
    "    \n",
    "    #the word ids obtained need to be reverse-mapped to the words so we can print the topic names.\n",
    "    feat_names = vectorizer.get_feature_names()\n",
    "    \n",
    "    word_dict = {};\n",
    "    for i in range(num_topics):\n",
    "        \n",
    "        #for each topic, obtain the largest values, and add the words they map to into the dictionary.\n",
    "        words_ids = model.components_[i].argsort()[:-20 - 1:-1] \n",
    "        #get the top 20 word ids for each topic \n",
    "        words = [feat_names[key] for key in words_ids] #obtain the word using the id\n",
    "        word_dict['Topic ' + '{:01d}'.format(i+1)] = words;\n",
    "    \n",
    "    return pd.DataFrame(word_dict);"
   ]
  },
  {
   "cell_type": "code",
   "execution_count": null,
   "metadata": {},
   "outputs": [],
   "source": [
    "get_nmf_topics(model, 10)"
   ]
  },
  {
   "cell_type": "markdown",
   "metadata": {},
   "source": [
    "# Hierarchical dirichilet process (HDP)"
   ]
  },
  {
   "cell_type": "markdown",
   "metadata": {},
   "source": [
    "what if you do not know the ideal no of topics ?\n",
    "\n",
    "\n",
    "HDP is an extension of LDA, designed to address the case where the number of \"topics\" in \n",
    "is not known a priori. \n",
    "\n",
    "Using LDA for topic modeling, one treats each \"topic\" as a distribution of words\n",
    "in some known vocabulary. For each document a mixture of topics is drawn from a \n",
    "Dirichlet distribution i.e. P(t/d), and then each word in the document is an independent draw from that mixture (that is, selecting a topic and then using it to generate a word). P(w/t)\n",
    "\n",
    "For HDP, one also uses a Dirichlet process to capture the uncertainty in the number of topics. So a common base distribution is selected which represents the countably-infinite set of possible topics for the corpus, and then the finite distribution of topics for each document is sampled from this base distribution.\n",
    "\n",
    "As far as pros and cons, HDP has the advantage that the maximum number of topics can be unbounded and learned from the data rather than specified in advance. Although it would be more complicated to implement, and unnecessary in the case where a bounded number of topics is acceptable."
   ]
  },
  {
   "cell_type": "markdown",
   "metadata": {},
   "source": [
    "# How does HDP work \n",
    "takes a top down approach \n",
    "uses lDA dist to split a doc into topics and finds words associated with these topics \n",
    "Creates a doc for each of these topics which has only the words from Dirichilet dist \n",
    "Creates another LDA on this doc and keeps repeating until the doc is too small to model . \n"
   ]
  },
  {
   "cell_type": "code",
   "execution_count": null,
   "metadata": {},
   "outputs": [],
   "source": [
    "Image(filename=\"HLDA.png\")"
   ]
  },
  {
   "cell_type": "code",
   "execution_count": null,
   "metadata": {},
   "outputs": [],
   "source": [
    "from gensim.models.hdpmodel import HdpModel"
   ]
  },
  {
   "cell_type": "code",
   "execution_count": null,
   "metadata": {},
   "outputs": [],
   "source": [
    "start3 = time.time()\n",
    "Hdpmodel = HdpModel(corpus=bow_corpus,id2word=dictionary)\n",
    "print ('time taken to train ', time.time()-start3)"
   ]
  },
  {
   "cell_type": "code",
   "execution_count": null,
   "metadata": {},
   "outputs": [],
   "source": [
    "def get_hdp_topics(model, num_topics):\n",
    "    word_dict = {}\n",
    "    topics = model.show_topics(num_topics,20)\n",
    "    word_dict = {'Topic '+str(i):[x.split('*') for x in words.split('+')] \\\n",
    "                 for i,words in lda_model.show_topics(10,20)}\n",
    "    return pd.DataFrame.from_dict(word_dict)\n",
    "get_hdp_topics(Hdpmodel, 10)"
   ]
  },
  {
   "cell_type": "code",
   "execution_count": null,
   "metadata": {},
   "outputs": [],
   "source": []
  },
  {
   "cell_type": "markdown",
   "metadata": {},
   "source": [
    "# GuidedLDA: Guided Topic modeling with latent Dirichlet allocation"
   ]
  },
  {
   "cell_type": "code",
   "execution_count": null,
   "metadata": {},
   "outputs": [],
   "source": [
    "import guidedlda"
   ]
  },
  {
   "cell_type": "code",
   "execution_count": null,
   "metadata": {},
   "outputs": [],
   "source": [
    "seed_topic_list = [['health', 'servic', 'industri'],\n",
    "                   ['polic', 'charg', 'murder'],\n",
    "                   ['report', 'warn', 'farmer', 'drought', 'storm'],\n",
    "                   ['jail', 'reject', 'power'],\n",
    "                   ['iraq', 'kill', 'bomb', 'soldier']]"
   ]
  },
  {
   "cell_type": "code",
   "execution_count": null,
   "metadata": {},
   "outputs": [],
   "source": [
    "vec = CountVectorizer()\n",
    "X = vec.fit_transform([' '.join(i) for i in processed_docs])\n",
    "df = pd.DataFrame(X.toarray(), columns=vec.get_feature_names())\n",
    "vocab = tuple(df.columns)\n",
    "word2id = dict((v, idx) for idx, v in enumerate(vocab))"
   ]
  },
  {
   "cell_type": "code",
   "execution_count": null,
   "metadata": {},
   "outputs": [],
   "source": [
    "model = guidedlda.GuidedLDA(n_topics=3, n_iter=100, random_state=7, refresh=20)\n",
    "\n",
    "seed_topics = {}\n",
    "for t_id, st in enumerate(seed_topic_list):\n",
    "    for word in st:\n",
    "        seed_topics[word2id[word]] = t_id\n",
    "\n",
    "model.fit(X.toarray(), seed_topics=seed_topics, seed_confidence=0.001)\n",
    "\n",
    "n_top_words = 12\n",
    "topic_word = model.topic_word_\n",
    "for i, topic_dist in enumerate(topic_word):\n",
    "    topic_words = np.array(vocab)[np.argsort(topic_dist)][:-(n_top_words+1):-1]\n",
    "    print(' '.join(topic_words))"
   ]
  },
  {
   "cell_type": "code",
   "execution_count": null,
   "metadata": {},
   "outputs": [],
   "source": []
  }
 ],
 "metadata": {
  "kernelspec": {
   "display_name": "Python 3",
   "language": "python",
   "name": "python3"
  },
  "language_info": {
   "codemirror_mode": {
    "name": "ipython",
    "version": 3
   },
   "file_extension": ".py",
   "mimetype": "text/x-python",
   "name": "python",
   "nbconvert_exporter": "python",
   "pygments_lexer": "ipython3",
   "version": "3.6.5"
  }
 },
 "nbformat": 4,
 "nbformat_minor": 2
}
